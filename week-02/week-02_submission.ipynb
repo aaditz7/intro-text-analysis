{
 "cells": [
  {
   "cell_type": "markdown",
   "metadata": {},
   "source": [
    "## Homework\n",
    "\n",
    "1. Read @Brezina2018 [ch. 2, pp. 41--65].\n",
    "2. Choose 3 books of Pausanias and calculate the most common tokens, types, and lemmata for each. In a paragraph or so, describe your findings relative to the work we have done in class today.\n",
    "3. Using your findings from 2., write a short (1-page) evaluation of one of the books of Pausanias that you have analyzed. Does your qualitative -- which is not to say \"subjective\" -- experience of reading the text cohere with your quantitative evaluation?"
   ]
  },
  {
   "cell_type": "code",
   "execution_count": 39,
   "metadata": {},
   "outputs": [
    {
     "name": "stdout",
     "output_type": "stream",
     "text": [
      "Requirement already satisfied: MyCapytain in /workspaces/intro-text-analysis/.venv/lib/python3.12/site-packages (3.0.2)\n",
      "Requirement already satisfied: requests>=2.8.1 in /workspaces/intro-text-analysis/.venv/lib/python3.12/site-packages (from MyCapytain) (2.32.3)\n",
      "Requirement already satisfied: six>=1.10.0 in /workspaces/intro-text-analysis/.venv/lib/python3.12/site-packages (from MyCapytain) (1.16.0)\n",
      "Requirement already satisfied: lxml>=3.6.4 in /workspaces/intro-text-analysis/.venv/lib/python3.12/site-packages (from MyCapytain) (5.3.0)\n",
      "Requirement already satisfied: future>=0.16.0 in /workspaces/intro-text-analysis/.venv/lib/python3.12/site-packages (from MyCapytain) (1.0.0)\n",
      "Requirement already satisfied: rdflib-jsonld>=0.4.0 in /workspaces/intro-text-analysis/.venv/lib/python3.12/site-packages (from MyCapytain) (0.6.2)\n",
      "Requirement already satisfied: LinkHeader>=0.4.3 in /workspaces/intro-text-analysis/.venv/lib/python3.12/site-packages (from MyCapytain) (0.4.3)\n",
      "Requirement already satisfied: pyld>=1.0.3 in /workspaces/intro-text-analysis/.venv/lib/python3.12/site-packages (from MyCapytain) (2.0.4)\n",
      "Requirement already satisfied: typing in /workspaces/intro-text-analysis/.venv/lib/python3.12/site-packages (from MyCapytain) (3.7.4.3)\n",
      "Requirement already satisfied: cachetools in /workspaces/intro-text-analysis/.venv/lib/python3.12/site-packages (from pyld>=1.0.3->MyCapytain) (5.5.0)\n",
      "Requirement already satisfied: frozendict in /workspaces/intro-text-analysis/.venv/lib/python3.12/site-packages (from pyld>=1.0.3->MyCapytain) (2.4.4)\n",
      "Requirement already satisfied: rdflib>=5.0.0 in /workspaces/intro-text-analysis/.venv/lib/python3.12/site-packages (from rdflib-jsonld>=0.4.0->MyCapytain) (7.0.0)\n",
      "Requirement already satisfied: charset-normalizer<4,>=2 in /workspaces/intro-text-analysis/.venv/lib/python3.12/site-packages (from requests>=2.8.1->MyCapytain) (3.3.2)\n",
      "Requirement already satisfied: idna<4,>=2.5 in /workspaces/intro-text-analysis/.venv/lib/python3.12/site-packages (from requests>=2.8.1->MyCapytain) (3.10)\n",
      "Requirement already satisfied: urllib3<3,>=1.21.1 in /workspaces/intro-text-analysis/.venv/lib/python3.12/site-packages (from requests>=2.8.1->MyCapytain) (2.2.3)\n",
      "Requirement already satisfied: certifi>=2017.4.17 in /workspaces/intro-text-analysis/.venv/lib/python3.12/site-packages (from requests>=2.8.1->MyCapytain) (2024.8.30)\n",
      "Requirement already satisfied: isodate<0.7.0,>=0.6.0 in /workspaces/intro-text-analysis/.venv/lib/python3.12/site-packages (from rdflib>=5.0.0->rdflib-jsonld>=0.4.0->MyCapytain) (0.6.1)\n",
      "Requirement already satisfied: pyparsing<4,>=2.1.0 in /workspaces/intro-text-analysis/.venv/lib/python3.12/site-packages (from rdflib>=5.0.0->rdflib-jsonld>=0.4.0->MyCapytain) (3.1.4)\n",
      "Note: you may need to restart the kernel to use updated packages.\n"
     ]
    }
   ],
   "source": [
    "%pip install MyCapytain"
   ]
  },
  {
   "cell_type": "code",
   "execution_count": 40,
   "metadata": {},
   "outputs": [],
   "source": [
    "from MyCapytain.resources.texts.local.capitains.cts import CapitainsCtsText\n",
    "\n",
    "with open(\"../tei/tlg0525.tlg001.perseus-eng2.xml\") as f:\n",
    "    text = CapitainsCtsText(urn=\"urn:cts:greekLit:tlg0525.tlg001.perseus-eng2\", resource=f)"
   ]
  },
  {
   "cell_type": "code",
   "execution_count": 41,
   "metadata": {},
   "outputs": [],
   "source": [
    "\n",
    "from lxml import etree\n",
    "from MyCapytain.common.constants import Mimetypes\n",
    "\n",
    "urns = []\n",
    "raw_xmls = []\n",
    "unannotated_strings = []\n",
    "\n",
    "for ref in text.getReffs(level=len(text.citation)):\n",
    "    urn = f\"{text.urn}:{ref}\"\n",
    "    node = text.getTextualNode(ref)\n",
    "    raw_xml = node.export(Mimetypes.XML.TEI)\n",
    "    tree = node.export(Mimetypes.PYTHON.ETREE)\n",
    "    s = etree.tostring(tree, encoding=\"unicode\", method=\"text\")\n",
    "\n",
    "    urns.append(urn)\n",
    "    raw_xmls.append(raw_xml)\n",
    "    unannotated_strings.append(s)"
   ]
  },
  {
   "cell_type": "code",
   "execution_count": 42,
   "metadata": {},
   "outputs": [
    {
     "name": "stdout",
     "output_type": "stream",
     "text": [
      "Requirement already satisfied: numpy==1.26.4 in /workspaces/intro-text-analysis/.venv/lib/python3.12/site-packages (1.26.4)\n",
      "Note: you may need to restart the kernel to use updated packages.\n",
      "Requirement already satisfied: pandas in /workspaces/intro-text-analysis/.venv/lib/python3.12/site-packages (2.2.3)\n",
      "Requirement already satisfied: numpy>=1.26.0 in /workspaces/intro-text-analysis/.venv/lib/python3.12/site-packages (from pandas) (1.26.4)\n",
      "Requirement already satisfied: python-dateutil>=2.8.2 in /workspaces/intro-text-analysis/.venv/lib/python3.12/site-packages (from pandas) (2.9.0.post0)\n",
      "Requirement already satisfied: pytz>=2020.1 in /workspaces/intro-text-analysis/.venv/lib/python3.12/site-packages (from pandas) (2024.2)\n",
      "Requirement already satisfied: tzdata>=2022.7 in /workspaces/intro-text-analysis/.venv/lib/python3.12/site-packages (from pandas) (2024.1)\n",
      "Requirement already satisfied: six>=1.5 in /workspaces/intro-text-analysis/.venv/lib/python3.12/site-packages (from python-dateutil>=2.8.2->pandas) (1.16.0)\n",
      "Note: you may need to restart the kernel to use updated packages.\n"
     ]
    }
   ],
   "source": [
    "# install the latest version of numpy 1, instead of pandas' numpy 2\n",
    "%pip install numpy==1.26.4\n",
    "\n",
    "%pip install pandas"
   ]
  },
  {
   "cell_type": "code",
   "execution_count": 43,
   "metadata": {},
   "outputs": [],
   "source": [
    "import pandas as pd\n",
    "\n",
    "d = {\n",
    "    \"urn\": pd.Series(urns, dtype=\"string\"),\n",
    "    \"raw_xml\": raw_xmls,\n",
    "    \"unannotated_strings\": pd.Series(unannotated_strings, dtype=\"string\")\n",
    "}\n",
    "pausanias_df = pd.DataFrame(d)"
   ]
  },
  {
   "cell_type": "code",
   "execution_count": 44,
   "metadata": {},
   "outputs": [
    {
     "data": {
      "text/html": [
       "<div>\n",
       "<style scoped>\n",
       "    .dataframe tbody tr th:only-of-type {\n",
       "        vertical-align: middle;\n",
       "    }\n",
       "\n",
       "    .dataframe tbody tr th {\n",
       "        vertical-align: top;\n",
       "    }\n",
       "\n",
       "    .dataframe thead th {\n",
       "        text-align: right;\n",
       "    }\n",
       "</style>\n",
       "<table border=\"1\" class=\"dataframe\">\n",
       "  <thead>\n",
       "    <tr style=\"text-align: right;\">\n",
       "      <th></th>\n",
       "      <th>urn</th>\n",
       "      <th>raw_xml</th>\n",
       "      <th>unannotated_strings</th>\n",
       "      <th>whitespaced_tokens</th>\n",
       "    </tr>\n",
       "  </thead>\n",
       "  <tbody>\n",
       "    <tr>\n",
       "      <th>0</th>\n",
       "      <td>urn:cts:greekLit:tlg0525.tlg001.perseus-eng2:1...</td>\n",
       "      <td>&lt;TEI xmlns=\"http://www.tei-c.org/ns/1.0\" xmlns...</td>\n",
       "      <td>On the Greek mainland facing the Cyclades Isla...</td>\n",
       "      <td>[On, the, Greek, mainland, facing, the, Cyclad...</td>\n",
       "    </tr>\n",
       "    <tr>\n",
       "      <th>1</th>\n",
       "      <td>urn:cts:greekLit:tlg0525.tlg001.perseus-eng2:1...</td>\n",
       "      <td>&lt;TEI xmlns=\"http://www.tei-c.org/ns/1.0\" xmlns...</td>\n",
       "      <td>The Peiraeus was a parish from early times, th...</td>\n",
       "      <td>[The, Peiraeus, was, a, parish, from, early, t...</td>\n",
       "    </tr>\n",
       "    <tr>\n",
       "      <th>2</th>\n",
       "      <td>urn:cts:greekLit:tlg0525.tlg001.perseus-eng2:1...</td>\n",
       "      <td>&lt;TEI xmlns=\"http://www.tei-c.org/ns/1.0\" xmlns...</td>\n",
       "      <td>The most noteworthy sight in the Peiraeus is a...</td>\n",
       "      <td>[The, most, noteworthy, sight, in, the, Peirae...</td>\n",
       "    </tr>\n",
       "    <tr>\n",
       "      <th>3</th>\n",
       "      <td>urn:cts:greekLit:tlg0525.tlg001.perseus-eng2:1...</td>\n",
       "      <td>&lt;TEI xmlns=\"http://www.tei-c.org/ns/1.0\" xmlns...</td>\n",
       "      <td>The Athenians have also another harbor, at Mun...</td>\n",
       "      <td>[The, Athenians, have, also, another, harbor,,...</td>\n",
       "    </tr>\n",
       "    <tr>\n",
       "      <th>4</th>\n",
       "      <td>urn:cts:greekLit:tlg0525.tlg001.perseus-eng2:1...</td>\n",
       "      <td>&lt;TEI xmlns=\"http://www.tei-c.org/ns/1.0\" xmlns...</td>\n",
       "      <td>Twenty stades away is the Coliad promontory; o...</td>\n",
       "      <td>[Twenty, stades, away, is, the, Coliad, promon...</td>\n",
       "    </tr>\n",
       "    <tr>\n",
       "      <th>...</th>\n",
       "      <td>...</td>\n",
       "      <td>...</td>\n",
       "      <td>...</td>\n",
       "      <td>...</td>\n",
       "    </tr>\n",
       "    <tr>\n",
       "      <th>3165</th>\n",
       "      <td>urn:cts:greekLit:tlg0525.tlg001.perseus-eng2:1...</td>\n",
       "      <td>&lt;TEI xmlns=\"http://www.tei-c.org/ns/1.0\" xmlns...</td>\n",
       "      <td>These, then, live above Amphissa. On the coast...</td>\n",
       "      <td>[These,, then,, live, above, Amphissa., On, th...</td>\n",
       "    </tr>\n",
       "    <tr>\n",
       "      <th>3166</th>\n",
       "      <td>urn:cts:greekLit:tlg0525.tlg001.perseus-eng2:1...</td>\n",
       "      <td>&lt;TEI xmlns=\"http://www.tei-c.org/ns/1.0\" xmlns...</td>\n",
       "      <td>I gather that the city got its name from a wom...</td>\n",
       "      <td>[I, gather, that, the, city, got, its, name, f...</td>\n",
       "    </tr>\n",
       "    <tr>\n",
       "      <th>3167</th>\n",
       "      <td>urn:cts:greekLit:tlg0525.tlg001.perseus-eng2:1...</td>\n",
       "      <td>&lt;TEI xmlns=\"http://www.tei-c.org/ns/1.0\" xmlns...</td>\n",
       "      <td>The epic poem called the Naupactia by the Gree...</td>\n",
       "      <td>[The, epic, poem, called, the, Naupactia, by, ...</td>\n",
       "    </tr>\n",
       "    <tr>\n",
       "      <th>3168</th>\n",
       "      <td>urn:cts:greekLit:tlg0525.tlg001.perseus-eng2:1...</td>\n",
       "      <td>&lt;TEI xmlns=\"http://www.tei-c.org/ns/1.0\" xmlns...</td>\n",
       "      <td>Here there is on the coast a temple of Poseido...</td>\n",
       "      <td>[Here, there, is, on, the, coast, a, temple, o...</td>\n",
       "    </tr>\n",
       "    <tr>\n",
       "      <th>3169</th>\n",
       "      <td>urn:cts:greekLit:tlg0525.tlg001.perseus-eng2:1...</td>\n",
       "      <td>&lt;TEI xmlns=\"http://www.tei-c.org/ns/1.0\" xmlns...</td>\n",
       "      <td>The sanctuary of Asclepius I found in ruins, b...</td>\n",
       "      <td>[The, sanctuary, of, Asclepius, I, found, in, ...</td>\n",
       "    </tr>\n",
       "  </tbody>\n",
       "</table>\n",
       "<p>3170 rows × 4 columns</p>\n",
       "</div>"
      ],
      "text/plain": [
       "                                                    urn  \\\n",
       "0     urn:cts:greekLit:tlg0525.tlg001.perseus-eng2:1...   \n",
       "1     urn:cts:greekLit:tlg0525.tlg001.perseus-eng2:1...   \n",
       "2     urn:cts:greekLit:tlg0525.tlg001.perseus-eng2:1...   \n",
       "3     urn:cts:greekLit:tlg0525.tlg001.perseus-eng2:1...   \n",
       "4     urn:cts:greekLit:tlg0525.tlg001.perseus-eng2:1...   \n",
       "...                                                 ...   \n",
       "3165  urn:cts:greekLit:tlg0525.tlg001.perseus-eng2:1...   \n",
       "3166  urn:cts:greekLit:tlg0525.tlg001.perseus-eng2:1...   \n",
       "3167  urn:cts:greekLit:tlg0525.tlg001.perseus-eng2:1...   \n",
       "3168  urn:cts:greekLit:tlg0525.tlg001.perseus-eng2:1...   \n",
       "3169  urn:cts:greekLit:tlg0525.tlg001.perseus-eng2:1...   \n",
       "\n",
       "                                                raw_xml  \\\n",
       "0     <TEI xmlns=\"http://www.tei-c.org/ns/1.0\" xmlns...   \n",
       "1     <TEI xmlns=\"http://www.tei-c.org/ns/1.0\" xmlns...   \n",
       "2     <TEI xmlns=\"http://www.tei-c.org/ns/1.0\" xmlns...   \n",
       "3     <TEI xmlns=\"http://www.tei-c.org/ns/1.0\" xmlns...   \n",
       "4     <TEI xmlns=\"http://www.tei-c.org/ns/1.0\" xmlns...   \n",
       "...                                                 ...   \n",
       "3165  <TEI xmlns=\"http://www.tei-c.org/ns/1.0\" xmlns...   \n",
       "3166  <TEI xmlns=\"http://www.tei-c.org/ns/1.0\" xmlns...   \n",
       "3167  <TEI xmlns=\"http://www.tei-c.org/ns/1.0\" xmlns...   \n",
       "3168  <TEI xmlns=\"http://www.tei-c.org/ns/1.0\" xmlns...   \n",
       "3169  <TEI xmlns=\"http://www.tei-c.org/ns/1.0\" xmlns...   \n",
       "\n",
       "                                    unannotated_strings  \\\n",
       "0     On the Greek mainland facing the Cyclades Isla...   \n",
       "1     The Peiraeus was a parish from early times, th...   \n",
       "2     The most noteworthy sight in the Peiraeus is a...   \n",
       "3     The Athenians have also another harbor, at Mun...   \n",
       "4     Twenty stades away is the Coliad promontory; o...   \n",
       "...                                                 ...   \n",
       "3165  These, then, live above Amphissa. On the coast...   \n",
       "3166  I gather that the city got its name from a wom...   \n",
       "3167  The epic poem called the Naupactia by the Gree...   \n",
       "3168  Here there is on the coast a temple of Poseido...   \n",
       "3169  The sanctuary of Asclepius I found in ruins, b...   \n",
       "\n",
       "                                     whitespaced_tokens  \n",
       "0     [On, the, Greek, mainland, facing, the, Cyclad...  \n",
       "1     [The, Peiraeus, was, a, parish, from, early, t...  \n",
       "2     [The, most, noteworthy, sight, in, the, Peirae...  \n",
       "3     [The, Athenians, have, also, another, harbor,,...  \n",
       "4     [Twenty, stades, away, is, the, Coliad, promon...  \n",
       "...                                                 ...  \n",
       "3165  [These,, then,, live, above, Amphissa., On, th...  \n",
       "3166  [I, gather, that, the, city, got, its, name, f...  \n",
       "3167  [The, epic, poem, called, the, Naupactia, by, ...  \n",
       "3168  [Here, there, is, on, the, coast, a, temple, o...  \n",
       "3169  [The, sanctuary, of, Asclepius, I, found, in, ...  \n",
       "\n",
       "[3170 rows x 4 columns]"
      ]
     },
     "execution_count": 44,
     "metadata": {},
     "output_type": "execute_result"
    }
   ],
   "source": [
    "# See https://pandas.pydata.org/docs/reference/api/pandas.Series.str.split.html for\n",
    "# panda's string-splitting utilities; it splits on whitespace by default\n",
    "pausanias_df['whitespaced_tokens'] = pausanias_df['unannotated_strings'].str.split()\n",
    "\n",
    "pausanias_df"
   ]
  },
  {
   "cell_type": "code",
   "execution_count": 45,
   "metadata": {},
   "outputs": [],
   "source": [
    "def get_book_of_pausanias(df: pd.DataFrame, book_n: int):\n",
    "    return df[df['urn'].str.startswith(f\"urn:cts:greekLit:tlg0525.tlg001.perseus-eng2:{book_n}\")]"
   ]
  },
  {
   "cell_type": "code",
   "execution_count": 46,
   "metadata": {},
   "outputs": [],
   "source": [
    "book7 = get_book_of_pausanias(pausanias_df, 7)\n",
    "book1 = get_book_of_pausanias(pausanias_df, 1)\n",
    "book3 = get_book_of_pausanias(pausanias_df, 3)"
   ]
  },
  {
   "cell_type": "code",
   "execution_count": 47,
   "metadata": {},
   "outputs": [
    {
     "data": {
      "text/plain": [
       "4935"
      ]
     },
     "execution_count": 47,
     "metadata": {},
     "output_type": "execute_result"
    }
   ],
   "source": [
    "book7['whitespaced_tokens'].explode().count()\n",
    "len(book7['whitespaced_tokens'].explode().unique())"
   ]
  },
  {
   "cell_type": "code",
   "execution_count": 48,
   "metadata": {},
   "outputs": [
    {
     "name": "stdout",
     "output_type": "stream",
     "text": [
      "[('the', 2288), ('of', 1210), ('to', 758), ('and', 720), ('a', 451), ('in', 367), ('is', 307), ('that', 278), ('was', 266), ('by', 249), ('from', 228), ('they', 198), ('at', 187), ('The', 183), ('with', 181), ('he', 171), ('on', 160), ('his', 152), ('their', 152), ('were', 151), ('for', 149), ('had', 138), ('who', 129), ('it', 129), ('but', 119), ('as', 115), ('Achaeans', 106), ('an', 92), ('not', 89), ('them', 87), ('are', 87), ('this', 87), ('be', 83), ('son', 80), ('which', 69), ('when', 65), ('sanctuary', 65), ('also', 62), ('against', 59), ('city', 59), ('have', 58), ('all', 56), ('But', 55), ('made', 55), ('been', 54), ('called', 53), ('into', 52), ('one', 51), ('there', 49), ('I', 49), ('image', 49), ('people', 47), ('no', 47), ('after', 46), ('time', 45), ('him', 44), ('other', 44), ('before', 41), ('because', 41), ('came', 40), ('When', 40), ('up', 40), ('Achaean', 40), ('Romans', 39), ('river', 38), ('name', 37), ('about', 37), ('under', 37), ('Lacedaemonians', 37), ('too', 37), ('being', 36), ('Achaeans,', 36), ('more', 36), ('In', 36), ('most', 36), ('Ionians', 34), ('than', 34), ('war', 33), ('This', 33), ('There', 33), ('its', 33), ('those', 32), ('some', 32), ('sent', 32), ('It', 31), ('even', 31), ('Athenians', 31), ('They', 31), ('He', 30), ('would', 29), ('land', 28), ('out', 28), ('her', 28), ('or', 28), ('say', 27), ('men', 27), ('images', 27), ('On', 26), ('while', 26), ('so', 26)]\n"
     ]
    }
   ],
   "source": [
    "from collections import Counter\n",
    "types = book7['whitespaced_tokens'].explode()\n",
    "\n",
    "type_counts = Counter(types)\n",
    "\n",
    "print(type_counts.most_common(100))"
   ]
  },
  {
   "cell_type": "code",
   "execution_count": 49,
   "metadata": {},
   "outputs": [
    {
     "name": "stdout",
     "output_type": "stream",
     "text": [
      "[('the', 5744), ('of', 3272), ('and', 2053), ('to', 1764), ('a', 1335), ('in', 1056), ('is', 1042), ('that', 868), ('was', 782), ('by', 661), ('they', 531), ('his', 479), ('from', 471), ('The', 457), ('with', 440), ('who', 431), ('on', 414), ('he', 414), ('at', 387), ('as', 372), ('for', 370), ('their', 368), ('are', 366), ('it', 339), ('were', 330), ('but', 325), ('this', 274), ('son', 272), ('had', 256), ('have', 247), ('which', 236), ('not', 236), ('I', 232), ('an', 218), ('also', 205), ('when', 199), ('them', 192), ('called', 188), ('say', 178), ('one', 174), ('be', 162), ('made', 158), ('there', 153), ('him', 145), ('her', 145), ('those', 142), ('after', 136), ('all', 135), ('Athenians', 131), ('no', 128), ('has', 124), ('against', 121), ('first', 120), ('There', 119), ('other', 115), ('city', 111), ('into', 109), ('been', 105), ('about', 105), ('But', 104), ('came', 103), ('said', 98), ('up', 95), ('so', 95), ('sanctuary', 93), ('name', 93), ('most', 91), ('being', 91), ('temple', 90), ('They', 90), ('or', 89), ('she', 88), ('you', 84), ('daughter', 84), ('out', 82), ('part', 82), ('On', 81), ('For', 80), ('This', 80), ('Greeks', 80), ('its', 80), ('than', 80), ('It', 78), ('these', 78), ('because', 78), ('dedicated', 78), ('In', 77), ('too', 77), ('time', 74), ('my', 73), ('Apollo', 72), ('When', 71), ('before', 71), ('men', 71), ('whom', 71), ('among', 70), ('image', 68), ('bronze', 68), ('killed', 66), ('more', 65)]\n"
     ]
    }
   ],
   "source": [
    "from collections import Counter\n",
    "types = book1['whitespaced_tokens'].explode()\n",
    "\n",
    "type_counts = Counter(types)\n",
    "\n",
    "print(type_counts.most_common(100))"
   ]
  },
  {
   "cell_type": "code",
   "execution_count": 50,
   "metadata": {},
   "outputs": [
    {
     "name": "stdout",
     "output_type": "stream",
     "text": [
      "[('the', 2075), ('of', 1296), ('and', 662), ('to', 658), ('a', 532), ('in', 384), ('is', 377), ('was', 308), ('that', 265), ('they', 199), ('by', 197), ('from', 195), ('he', 190), ('his', 178), ('with', 149), ('son', 148), ('The', 146), ('at', 141), ('it', 138), ('on', 136), ('for', 122), ('are', 119), ('this', 118), ('who', 116), ('had', 113), ('as', 111), ('their', 111), ('were', 102), ('but', 102), ('an', 100), ('which', 97), ('not', 92), ('sanctuary', 87), ('have', 85), ('Lacedaemonians', 84), ('I', 83), ('called', 83), ('when', 79), ('also', 78), ('image', 68), ('be', 64), ('them', 61), ('him', 61), ('say', 61), ('been', 58), ('there', 55), ('one', 53), ('made', 51), ('On', 50), ('against', 50), ('after', 48), ('temple', 45), ('into', 39), ('other', 39), ('In', 39), ('because', 39), ('There', 39), ('place', 38), ('has', 38), ('all', 38), ('her', 37), ('stades', 37), ('time', 36), ('They', 35), ('king', 34), ('came', 33), ('up', 33), ('B.C.', 33), ('first', 32), ('said', 32), ('being', 30), ('those', 29), ('name', 29), ('so', 29), ('out', 29), ('what', 28), ('most', 28), ('Heracles', 28), ('upon', 28), ('For', 28), ('about', 27), ('But', 27), ('city', 27), ('war', 27), ('you', 27), ('left', 26), ('than', 26), ('before', 26), ('Apollo', 26), ('where', 26), ('my', 26), ('here', 26), ('When', 25), ('took', 25), ('sons', 25), ('people', 25), ('It', 25), ('she', 25), ('set', 24), ('brought', 24)]\n"
     ]
    }
   ],
   "source": [
    "from collections import Counter\n",
    "types = book3['whitespaced_tokens'].explode()\n",
    "\n",
    "type_counts = Counter(types)\n",
    "\n",
    "print(type_counts.most_common(100))"
   ]
  },
  {
   "cell_type": "code",
   "execution_count": 51,
   "metadata": {},
   "outputs": [
    {
     "name": "stdout",
     "output_type": "stream",
     "text": [
      "Requirement already satisfied: spacy in /workspaces/intro-text-analysis/.venv/lib/python3.12/site-packages (3.7.6)\n",
      "Requirement already satisfied: spacy-legacy<3.1.0,>=3.0.11 in /workspaces/intro-text-analysis/.venv/lib/python3.12/site-packages (from spacy) (3.0.12)\n",
      "Requirement already satisfied: spacy-loggers<2.0.0,>=1.0.0 in /workspaces/intro-text-analysis/.venv/lib/python3.12/site-packages (from spacy) (1.0.5)\n",
      "Requirement already satisfied: murmurhash<1.1.0,>=0.28.0 in /workspaces/intro-text-analysis/.venv/lib/python3.12/site-packages (from spacy) (1.0.10)\n",
      "Requirement already satisfied: cymem<2.1.0,>=2.0.2 in /workspaces/intro-text-analysis/.venv/lib/python3.12/site-packages (from spacy) (2.0.8)\n",
      "Requirement already satisfied: preshed<3.1.0,>=3.0.2 in /workspaces/intro-text-analysis/.venv/lib/python3.12/site-packages (from spacy) (3.0.9)\n",
      "Requirement already satisfied: thinc<8.3.0,>=8.2.2 in /workspaces/intro-text-analysis/.venv/lib/python3.12/site-packages (from spacy) (8.2.5)\n",
      "Requirement already satisfied: wasabi<1.2.0,>=0.9.1 in /workspaces/intro-text-analysis/.venv/lib/python3.12/site-packages (from spacy) (1.1.3)\n",
      "Requirement already satisfied: srsly<3.0.0,>=2.4.3 in /workspaces/intro-text-analysis/.venv/lib/python3.12/site-packages (from spacy) (2.4.8)\n",
      "Requirement already satisfied: catalogue<2.1.0,>=2.0.6 in /workspaces/intro-text-analysis/.venv/lib/python3.12/site-packages (from spacy) (2.0.10)\n",
      "Requirement already satisfied: weasel<0.5.0,>=0.1.0 in /workspaces/intro-text-analysis/.venv/lib/python3.12/site-packages (from spacy) (0.4.1)\n",
      "Requirement already satisfied: typer<1.0.0,>=0.3.0 in /workspaces/intro-text-analysis/.venv/lib/python3.12/site-packages (from spacy) (0.12.5)\n",
      "Requirement already satisfied: tqdm<5.0.0,>=4.38.0 in /workspaces/intro-text-analysis/.venv/lib/python3.12/site-packages (from spacy) (4.66.5)\n",
      "Requirement already satisfied: requests<3.0.0,>=2.13.0 in /workspaces/intro-text-analysis/.venv/lib/python3.12/site-packages (from spacy) (2.32.3)\n",
      "Requirement already satisfied: pydantic!=1.8,!=1.8.1,<3.0.0,>=1.7.4 in /workspaces/intro-text-analysis/.venv/lib/python3.12/site-packages (from spacy) (2.9.2)\n",
      "Requirement already satisfied: jinja2 in /workspaces/intro-text-analysis/.venv/lib/python3.12/site-packages (from spacy) (3.1.4)\n",
      "Requirement already satisfied: setuptools in /workspaces/intro-text-analysis/.venv/lib/python3.12/site-packages (from spacy) (75.1.0)\n",
      "Requirement already satisfied: packaging>=20.0 in /workspaces/intro-text-analysis/.venv/lib/python3.12/site-packages (from spacy) (24.1)\n",
      "Requirement already satisfied: langcodes<4.0.0,>=3.2.0 in /workspaces/intro-text-analysis/.venv/lib/python3.12/site-packages (from spacy) (3.4.0)\n",
      "Requirement already satisfied: numpy>=1.19.0 in /workspaces/intro-text-analysis/.venv/lib/python3.12/site-packages (from spacy) (1.26.4)\n",
      "Requirement already satisfied: language-data>=1.2 in /workspaces/intro-text-analysis/.venv/lib/python3.12/site-packages (from langcodes<4.0.0,>=3.2.0->spacy) (1.2.0)\n",
      "Requirement already satisfied: annotated-types>=0.6.0 in /workspaces/intro-text-analysis/.venv/lib/python3.12/site-packages (from pydantic!=1.8,!=1.8.1,<3.0.0,>=1.7.4->spacy) (0.7.0)\n",
      "Requirement already satisfied: pydantic-core==2.23.4 in /workspaces/intro-text-analysis/.venv/lib/python3.12/site-packages (from pydantic!=1.8,!=1.8.1,<3.0.0,>=1.7.4->spacy) (2.23.4)\n",
      "Requirement already satisfied: typing-extensions>=4.6.1 in /workspaces/intro-text-analysis/.venv/lib/python3.12/site-packages (from pydantic!=1.8,!=1.8.1,<3.0.0,>=1.7.4->spacy) (4.12.2)\n",
      "Requirement already satisfied: charset-normalizer<4,>=2 in /workspaces/intro-text-analysis/.venv/lib/python3.12/site-packages (from requests<3.0.0,>=2.13.0->spacy) (3.3.2)\n",
      "Requirement already satisfied: idna<4,>=2.5 in /workspaces/intro-text-analysis/.venv/lib/python3.12/site-packages (from requests<3.0.0,>=2.13.0->spacy) (3.10)\n",
      "Requirement already satisfied: urllib3<3,>=1.21.1 in /workspaces/intro-text-analysis/.venv/lib/python3.12/site-packages (from requests<3.0.0,>=2.13.0->spacy) (2.2.3)\n",
      "Requirement already satisfied: certifi>=2017.4.17 in /workspaces/intro-text-analysis/.venv/lib/python3.12/site-packages (from requests<3.0.0,>=2.13.0->spacy) (2024.8.30)\n",
      "Requirement already satisfied: blis<0.8.0,>=0.7.8 in /workspaces/intro-text-analysis/.venv/lib/python3.12/site-packages (from thinc<8.3.0,>=8.2.2->spacy) (0.7.11)\n",
      "Requirement already satisfied: confection<1.0.0,>=0.0.1 in /workspaces/intro-text-analysis/.venv/lib/python3.12/site-packages (from thinc<8.3.0,>=8.2.2->spacy) (0.1.5)\n",
      "Requirement already satisfied: click>=8.0.0 in /workspaces/intro-text-analysis/.venv/lib/python3.12/site-packages (from typer<1.0.0,>=0.3.0->spacy) (8.1.7)\n",
      "Requirement already satisfied: shellingham>=1.3.0 in /workspaces/intro-text-analysis/.venv/lib/python3.12/site-packages (from typer<1.0.0,>=0.3.0->spacy) (1.5.4)\n",
      "Requirement already satisfied: rich>=10.11.0 in /workspaces/intro-text-analysis/.venv/lib/python3.12/site-packages (from typer<1.0.0,>=0.3.0->spacy) (13.8.1)\n",
      "Requirement already satisfied: cloudpathlib<1.0.0,>=0.7.0 in /workspaces/intro-text-analysis/.venv/lib/python3.12/site-packages (from weasel<0.5.0,>=0.1.0->spacy) (0.19.0)\n",
      "Requirement already satisfied: smart-open<8.0.0,>=5.2.1 in /workspaces/intro-text-analysis/.venv/lib/python3.12/site-packages (from weasel<0.5.0,>=0.1.0->spacy) (7.0.4)\n",
      "Requirement already satisfied: MarkupSafe>=2.0 in /workspaces/intro-text-analysis/.venv/lib/python3.12/site-packages (from jinja2->spacy) (2.1.5)\n",
      "Requirement already satisfied: marisa-trie>=0.7.7 in /workspaces/intro-text-analysis/.venv/lib/python3.12/site-packages (from language-data>=1.2->langcodes<4.0.0,>=3.2.0->spacy) (1.2.0)\n",
      "Requirement already satisfied: markdown-it-py>=2.2.0 in /workspaces/intro-text-analysis/.venv/lib/python3.12/site-packages (from rich>=10.11.0->typer<1.0.0,>=0.3.0->spacy) (3.0.0)\n",
      "Requirement already satisfied: pygments<3.0.0,>=2.13.0 in /workspaces/intro-text-analysis/.venv/lib/python3.12/site-packages (from rich>=10.11.0->typer<1.0.0,>=0.3.0->spacy) (2.18.0)\n",
      "Requirement already satisfied: wrapt in /workspaces/intro-text-analysis/.venv/lib/python3.12/site-packages (from smart-open<8.0.0,>=5.2.1->weasel<0.5.0,>=0.1.0->spacy) (1.16.0)\n",
      "Requirement already satisfied: mdurl~=0.1 in /workspaces/intro-text-analysis/.venv/lib/python3.12/site-packages (from markdown-it-py>=2.2.0->rich>=10.11.0->typer<1.0.0,>=0.3.0->spacy) (0.1.2)\n",
      "Note: you may need to restart the kernel to use updated packages.\n"
     ]
    }
   ],
   "source": [
    "%pip install spacy"
   ]
  },
  {
   "cell_type": "code",
   "execution_count": 52,
   "metadata": {},
   "outputs": [
    {
     "name": "stdout",
     "output_type": "stream",
     "text": [
      "\u001b[38;5;3m⚠ As of spaCy v3.0, shortcuts like 'en' are deprecated. Please use the\n",
      "full pipeline package name 'en_core_web_sm' instead.\u001b[0m\n",
      "Collecting en-core-web-sm==3.7.1\n",
      "  Downloading https://github.com/explosion/spacy-models/releases/download/en_core_web_sm-3.7.1/en_core_web_sm-3.7.1-py3-none-any.whl (12.8 MB)\n",
      "\u001b[2K     \u001b[90m━━━━━━━━━━━━━━━━━━━━━━━━━━━━━━━━━━━━━━━━\u001b[0m \u001b[32m12.8/12.8 MB\u001b[0m \u001b[31m47.2 MB/s\u001b[0m eta \u001b[36m0:00:00\u001b[0m00:01\u001b[0m\n",
      "\u001b[?25hRequirement already satisfied: spacy<3.8.0,>=3.7.2 in /workspaces/intro-text-analysis/.venv/lib/python3.12/site-packages (from en-core-web-sm==3.7.1) (3.7.6)\n",
      "Requirement already satisfied: spacy-legacy<3.1.0,>=3.0.11 in /workspaces/intro-text-analysis/.venv/lib/python3.12/site-packages (from spacy<3.8.0,>=3.7.2->en-core-web-sm==3.7.1) (3.0.12)\n",
      "Requirement already satisfied: spacy-loggers<2.0.0,>=1.0.0 in /workspaces/intro-text-analysis/.venv/lib/python3.12/site-packages (from spacy<3.8.0,>=3.7.2->en-core-web-sm==3.7.1) (1.0.5)\n",
      "Requirement already satisfied: murmurhash<1.1.0,>=0.28.0 in /workspaces/intro-text-analysis/.venv/lib/python3.12/site-packages (from spacy<3.8.0,>=3.7.2->en-core-web-sm==3.7.1) (1.0.10)\n",
      "Requirement already satisfied: cymem<2.1.0,>=2.0.2 in /workspaces/intro-text-analysis/.venv/lib/python3.12/site-packages (from spacy<3.8.0,>=3.7.2->en-core-web-sm==3.7.1) (2.0.8)\n",
      "Requirement already satisfied: preshed<3.1.0,>=3.0.2 in /workspaces/intro-text-analysis/.venv/lib/python3.12/site-packages (from spacy<3.8.0,>=3.7.2->en-core-web-sm==3.7.1) (3.0.9)\n",
      "Requirement already satisfied: thinc<8.3.0,>=8.2.2 in /workspaces/intro-text-analysis/.venv/lib/python3.12/site-packages (from spacy<3.8.0,>=3.7.2->en-core-web-sm==3.7.1) (8.2.5)\n",
      "Requirement already satisfied: wasabi<1.2.0,>=0.9.1 in /workspaces/intro-text-analysis/.venv/lib/python3.12/site-packages (from spacy<3.8.0,>=3.7.2->en-core-web-sm==3.7.1) (1.1.3)\n",
      "Requirement already satisfied: srsly<3.0.0,>=2.4.3 in /workspaces/intro-text-analysis/.venv/lib/python3.12/site-packages (from spacy<3.8.0,>=3.7.2->en-core-web-sm==3.7.1) (2.4.8)\n",
      "Requirement already satisfied: catalogue<2.1.0,>=2.0.6 in /workspaces/intro-text-analysis/.venv/lib/python3.12/site-packages (from spacy<3.8.0,>=3.7.2->en-core-web-sm==3.7.1) (2.0.10)\n",
      "Requirement already satisfied: weasel<0.5.0,>=0.1.0 in /workspaces/intro-text-analysis/.venv/lib/python3.12/site-packages (from spacy<3.8.0,>=3.7.2->en-core-web-sm==3.7.1) (0.4.1)\n",
      "Requirement already satisfied: typer<1.0.0,>=0.3.0 in /workspaces/intro-text-analysis/.venv/lib/python3.12/site-packages (from spacy<3.8.0,>=3.7.2->en-core-web-sm==3.7.1) (0.12.5)\n",
      "Requirement already satisfied: tqdm<5.0.0,>=4.38.0 in /workspaces/intro-text-analysis/.venv/lib/python3.12/site-packages (from spacy<3.8.0,>=3.7.2->en-core-web-sm==3.7.1) (4.66.5)\n",
      "Requirement already satisfied: requests<3.0.0,>=2.13.0 in /workspaces/intro-text-analysis/.venv/lib/python3.12/site-packages (from spacy<3.8.0,>=3.7.2->en-core-web-sm==3.7.1) (2.32.3)\n",
      "Requirement already satisfied: pydantic!=1.8,!=1.8.1,<3.0.0,>=1.7.4 in /workspaces/intro-text-analysis/.venv/lib/python3.12/site-packages (from spacy<3.8.0,>=3.7.2->en-core-web-sm==3.7.1) (2.9.2)\n",
      "Requirement already satisfied: jinja2 in /workspaces/intro-text-analysis/.venv/lib/python3.12/site-packages (from spacy<3.8.0,>=3.7.2->en-core-web-sm==3.7.1) (3.1.4)\n",
      "Requirement already satisfied: setuptools in /workspaces/intro-text-analysis/.venv/lib/python3.12/site-packages (from spacy<3.8.0,>=3.7.2->en-core-web-sm==3.7.1) (75.1.0)\n",
      "Requirement already satisfied: packaging>=20.0 in /workspaces/intro-text-analysis/.venv/lib/python3.12/site-packages (from spacy<3.8.0,>=3.7.2->en-core-web-sm==3.7.1) (24.1)\n",
      "Requirement already satisfied: langcodes<4.0.0,>=3.2.0 in /workspaces/intro-text-analysis/.venv/lib/python3.12/site-packages (from spacy<3.8.0,>=3.7.2->en-core-web-sm==3.7.1) (3.4.0)\n",
      "Requirement already satisfied: numpy>=1.19.0 in /workspaces/intro-text-analysis/.venv/lib/python3.12/site-packages (from spacy<3.8.0,>=3.7.2->en-core-web-sm==3.7.1) (1.26.4)\n",
      "Requirement already satisfied: language-data>=1.2 in /workspaces/intro-text-analysis/.venv/lib/python3.12/site-packages (from langcodes<4.0.0,>=3.2.0->spacy<3.8.0,>=3.7.2->en-core-web-sm==3.7.1) (1.2.0)\n",
      "Requirement already satisfied: annotated-types>=0.6.0 in /workspaces/intro-text-analysis/.venv/lib/python3.12/site-packages (from pydantic!=1.8,!=1.8.1,<3.0.0,>=1.7.4->spacy<3.8.0,>=3.7.2->en-core-web-sm==3.7.1) (0.7.0)\n",
      "Requirement already satisfied: pydantic-core==2.23.4 in /workspaces/intro-text-analysis/.venv/lib/python3.12/site-packages (from pydantic!=1.8,!=1.8.1,<3.0.0,>=1.7.4->spacy<3.8.0,>=3.7.2->en-core-web-sm==3.7.1) (2.23.4)\n",
      "Requirement already satisfied: typing-extensions>=4.6.1 in /workspaces/intro-text-analysis/.venv/lib/python3.12/site-packages (from pydantic!=1.8,!=1.8.1,<3.0.0,>=1.7.4->spacy<3.8.0,>=3.7.2->en-core-web-sm==3.7.1) (4.12.2)\n",
      "Requirement already satisfied: charset-normalizer<4,>=2 in /workspaces/intro-text-analysis/.venv/lib/python3.12/site-packages (from requests<3.0.0,>=2.13.0->spacy<3.8.0,>=3.7.2->en-core-web-sm==3.7.1) (3.3.2)\n",
      "Requirement already satisfied: idna<4,>=2.5 in /workspaces/intro-text-analysis/.venv/lib/python3.12/site-packages (from requests<3.0.0,>=2.13.0->spacy<3.8.0,>=3.7.2->en-core-web-sm==3.7.1) (3.10)\n",
      "Requirement already satisfied: urllib3<3,>=1.21.1 in /workspaces/intro-text-analysis/.venv/lib/python3.12/site-packages (from requests<3.0.0,>=2.13.0->spacy<3.8.0,>=3.7.2->en-core-web-sm==3.7.1) (2.2.3)\n",
      "Requirement already satisfied: certifi>=2017.4.17 in /workspaces/intro-text-analysis/.venv/lib/python3.12/site-packages (from requests<3.0.0,>=2.13.0->spacy<3.8.0,>=3.7.2->en-core-web-sm==3.7.1) (2024.8.30)\n",
      "Requirement already satisfied: blis<0.8.0,>=0.7.8 in /workspaces/intro-text-analysis/.venv/lib/python3.12/site-packages (from thinc<8.3.0,>=8.2.2->spacy<3.8.0,>=3.7.2->en-core-web-sm==3.7.1) (0.7.11)\n",
      "Requirement already satisfied: confection<1.0.0,>=0.0.1 in /workspaces/intro-text-analysis/.venv/lib/python3.12/site-packages (from thinc<8.3.0,>=8.2.2->spacy<3.8.0,>=3.7.2->en-core-web-sm==3.7.1) (0.1.5)\n",
      "Requirement already satisfied: click>=8.0.0 in /workspaces/intro-text-analysis/.venv/lib/python3.12/site-packages (from typer<1.0.0,>=0.3.0->spacy<3.8.0,>=3.7.2->en-core-web-sm==3.7.1) (8.1.7)\n",
      "Requirement already satisfied: shellingham>=1.3.0 in /workspaces/intro-text-analysis/.venv/lib/python3.12/site-packages (from typer<1.0.0,>=0.3.0->spacy<3.8.0,>=3.7.2->en-core-web-sm==3.7.1) (1.5.4)\n",
      "Requirement already satisfied: rich>=10.11.0 in /workspaces/intro-text-analysis/.venv/lib/python3.12/site-packages (from typer<1.0.0,>=0.3.0->spacy<3.8.0,>=3.7.2->en-core-web-sm==3.7.1) (13.8.1)\n",
      "Requirement already satisfied: cloudpathlib<1.0.0,>=0.7.0 in /workspaces/intro-text-analysis/.venv/lib/python3.12/site-packages (from weasel<0.5.0,>=0.1.0->spacy<3.8.0,>=3.7.2->en-core-web-sm==3.7.1) (0.19.0)\n",
      "Requirement already satisfied: smart-open<8.0.0,>=5.2.1 in /workspaces/intro-text-analysis/.venv/lib/python3.12/site-packages (from weasel<0.5.0,>=0.1.0->spacy<3.8.0,>=3.7.2->en-core-web-sm==3.7.1) (7.0.4)\n",
      "Requirement already satisfied: MarkupSafe>=2.0 in /workspaces/intro-text-analysis/.venv/lib/python3.12/site-packages (from jinja2->spacy<3.8.0,>=3.7.2->en-core-web-sm==3.7.1) (2.1.5)\n",
      "Requirement already satisfied: marisa-trie>=0.7.7 in /workspaces/intro-text-analysis/.venv/lib/python3.12/site-packages (from language-data>=1.2->langcodes<4.0.0,>=3.2.0->spacy<3.8.0,>=3.7.2->en-core-web-sm==3.7.1) (1.2.0)\n",
      "Requirement already satisfied: markdown-it-py>=2.2.0 in /workspaces/intro-text-analysis/.venv/lib/python3.12/site-packages (from rich>=10.11.0->typer<1.0.0,>=0.3.0->spacy<3.8.0,>=3.7.2->en-core-web-sm==3.7.1) (3.0.0)\n",
      "Requirement already satisfied: pygments<3.0.0,>=2.13.0 in /workspaces/intro-text-analysis/.venv/lib/python3.12/site-packages (from rich>=10.11.0->typer<1.0.0,>=0.3.0->spacy<3.8.0,>=3.7.2->en-core-web-sm==3.7.1) (2.18.0)\n",
      "Requirement already satisfied: wrapt in /workspaces/intro-text-analysis/.venv/lib/python3.12/site-packages (from smart-open<8.0.0,>=5.2.1->weasel<0.5.0,>=0.1.0->spacy<3.8.0,>=3.7.2->en-core-web-sm==3.7.1) (1.16.0)\n",
      "Requirement already satisfied: mdurl~=0.1 in /workspaces/intro-text-analysis/.venv/lib/python3.12/site-packages (from markdown-it-py>=2.2.0->rich>=10.11.0->typer<1.0.0,>=0.3.0->spacy<3.8.0,>=3.7.2->en-core-web-sm==3.7.1) (0.1.2)\n",
      "\u001b[38;5;2m✔ Download and installation successful\u001b[0m\n",
      "You can now load the package via spacy.load('en_core_web_sm')\n",
      "\u001b[38;5;3m⚠ Restart to reload dependencies\u001b[0m\n",
      "If you are in a Jupyter or Colab notebook, you may need to restart Python in\n",
      "order to load all the package's dependencies. You can do this by selecting the\n",
      "'Restart kernel' or 'Restart runtime' option.\n",
      "Collecting en-core-web-sm==3.7.1\n",
      "  Downloading https://github.com/explosion/spacy-models/releases/download/en_core_web_sm-3.7.1/en_core_web_sm-3.7.1-py3-none-any.whl (12.8 MB)\n",
      "\u001b[2K     \u001b[90m━━━━━━━━━━━━━━━━━━━━━━━━━━━━━━━━━━━━━━━━\u001b[0m \u001b[32m12.8/12.8 MB\u001b[0m \u001b[31m51.5 MB/s\u001b[0m eta \u001b[36m0:00:00\u001b[0m00:01\u001b[0m\n",
      "\u001b[?25hRequirement already satisfied: spacy<3.8.0,>=3.7.2 in /workspaces/intro-text-analysis/.venv/lib/python3.12/site-packages (from en-core-web-sm==3.7.1) (3.7.6)\n",
      "Requirement already satisfied: spacy-legacy<3.1.0,>=3.0.11 in /workspaces/intro-text-analysis/.venv/lib/python3.12/site-packages (from spacy<3.8.0,>=3.7.2->en-core-web-sm==3.7.1) (3.0.12)\n",
      "Requirement already satisfied: spacy-loggers<2.0.0,>=1.0.0 in /workspaces/intro-text-analysis/.venv/lib/python3.12/site-packages (from spacy<3.8.0,>=3.7.2->en-core-web-sm==3.7.1) (1.0.5)\n",
      "Requirement already satisfied: murmurhash<1.1.0,>=0.28.0 in /workspaces/intro-text-analysis/.venv/lib/python3.12/site-packages (from spacy<3.8.0,>=3.7.2->en-core-web-sm==3.7.1) (1.0.10)\n",
      "Requirement already satisfied: cymem<2.1.0,>=2.0.2 in /workspaces/intro-text-analysis/.venv/lib/python3.12/site-packages (from spacy<3.8.0,>=3.7.2->en-core-web-sm==3.7.1) (2.0.8)\n",
      "Requirement already satisfied: preshed<3.1.0,>=3.0.2 in /workspaces/intro-text-analysis/.venv/lib/python3.12/site-packages (from spacy<3.8.0,>=3.7.2->en-core-web-sm==3.7.1) (3.0.9)\n",
      "Requirement already satisfied: thinc<8.3.0,>=8.2.2 in /workspaces/intro-text-analysis/.venv/lib/python3.12/site-packages (from spacy<3.8.0,>=3.7.2->en-core-web-sm==3.7.1) (8.2.5)\n",
      "Requirement already satisfied: wasabi<1.2.0,>=0.9.1 in /workspaces/intro-text-analysis/.venv/lib/python3.12/site-packages (from spacy<3.8.0,>=3.7.2->en-core-web-sm==3.7.1) (1.1.3)\n",
      "Requirement already satisfied: srsly<3.0.0,>=2.4.3 in /workspaces/intro-text-analysis/.venv/lib/python3.12/site-packages (from spacy<3.8.0,>=3.7.2->en-core-web-sm==3.7.1) (2.4.8)\n",
      "Requirement already satisfied: catalogue<2.1.0,>=2.0.6 in /workspaces/intro-text-analysis/.venv/lib/python3.12/site-packages (from spacy<3.8.0,>=3.7.2->en-core-web-sm==3.7.1) (2.0.10)\n",
      "Requirement already satisfied: weasel<0.5.0,>=0.1.0 in /workspaces/intro-text-analysis/.venv/lib/python3.12/site-packages (from spacy<3.8.0,>=3.7.2->en-core-web-sm==3.7.1) (0.4.1)\n",
      "Requirement already satisfied: typer<1.0.0,>=0.3.0 in /workspaces/intro-text-analysis/.venv/lib/python3.12/site-packages (from spacy<3.8.0,>=3.7.2->en-core-web-sm==3.7.1) (0.12.5)\n",
      "Requirement already satisfied: tqdm<5.0.0,>=4.38.0 in /workspaces/intro-text-analysis/.venv/lib/python3.12/site-packages (from spacy<3.8.0,>=3.7.2->en-core-web-sm==3.7.1) (4.66.5)\n",
      "Requirement already satisfied: requests<3.0.0,>=2.13.0 in /workspaces/intro-text-analysis/.venv/lib/python3.12/site-packages (from spacy<3.8.0,>=3.7.2->en-core-web-sm==3.7.1) (2.32.3)\n",
      "Requirement already satisfied: pydantic!=1.8,!=1.8.1,<3.0.0,>=1.7.4 in /workspaces/intro-text-analysis/.venv/lib/python3.12/site-packages (from spacy<3.8.0,>=3.7.2->en-core-web-sm==3.7.1) (2.9.2)\n",
      "Requirement already satisfied: jinja2 in /workspaces/intro-text-analysis/.venv/lib/python3.12/site-packages (from spacy<3.8.0,>=3.7.2->en-core-web-sm==3.7.1) (3.1.4)\n",
      "Requirement already satisfied: setuptools in /workspaces/intro-text-analysis/.venv/lib/python3.12/site-packages (from spacy<3.8.0,>=3.7.2->en-core-web-sm==3.7.1) (75.1.0)\n",
      "Requirement already satisfied: packaging>=20.0 in /workspaces/intro-text-analysis/.venv/lib/python3.12/site-packages (from spacy<3.8.0,>=3.7.2->en-core-web-sm==3.7.1) (24.1)\n",
      "Requirement already satisfied: langcodes<4.0.0,>=3.2.0 in /workspaces/intro-text-analysis/.venv/lib/python3.12/site-packages (from spacy<3.8.0,>=3.7.2->en-core-web-sm==3.7.1) (3.4.0)\n",
      "Requirement already satisfied: numpy>=1.19.0 in /workspaces/intro-text-analysis/.venv/lib/python3.12/site-packages (from spacy<3.8.0,>=3.7.2->en-core-web-sm==3.7.1) (1.26.4)\n",
      "Requirement already satisfied: language-data>=1.2 in /workspaces/intro-text-analysis/.venv/lib/python3.12/site-packages (from langcodes<4.0.0,>=3.2.0->spacy<3.8.0,>=3.7.2->en-core-web-sm==3.7.1) (1.2.0)\n",
      "Requirement already satisfied: annotated-types>=0.6.0 in /workspaces/intro-text-analysis/.venv/lib/python3.12/site-packages (from pydantic!=1.8,!=1.8.1,<3.0.0,>=1.7.4->spacy<3.8.0,>=3.7.2->en-core-web-sm==3.7.1) (0.7.0)\n",
      "Requirement already satisfied: pydantic-core==2.23.4 in /workspaces/intro-text-analysis/.venv/lib/python3.12/site-packages (from pydantic!=1.8,!=1.8.1,<3.0.0,>=1.7.4->spacy<3.8.0,>=3.7.2->en-core-web-sm==3.7.1) (2.23.4)\n",
      "Requirement already satisfied: typing-extensions>=4.6.1 in /workspaces/intro-text-analysis/.venv/lib/python3.12/site-packages (from pydantic!=1.8,!=1.8.1,<3.0.0,>=1.7.4->spacy<3.8.0,>=3.7.2->en-core-web-sm==3.7.1) (4.12.2)\n",
      "Requirement already satisfied: charset-normalizer<4,>=2 in /workspaces/intro-text-analysis/.venv/lib/python3.12/site-packages (from requests<3.0.0,>=2.13.0->spacy<3.8.0,>=3.7.2->en-core-web-sm==3.7.1) (3.3.2)\n",
      "Requirement already satisfied: idna<4,>=2.5 in /workspaces/intro-text-analysis/.venv/lib/python3.12/site-packages (from requests<3.0.0,>=2.13.0->spacy<3.8.0,>=3.7.2->en-core-web-sm==3.7.1) (3.10)\n",
      "Requirement already satisfied: urllib3<3,>=1.21.1 in /workspaces/intro-text-analysis/.venv/lib/python3.12/site-packages (from requests<3.0.0,>=2.13.0->spacy<3.8.0,>=3.7.2->en-core-web-sm==3.7.1) (2.2.3)\n",
      "Requirement already satisfied: certifi>=2017.4.17 in /workspaces/intro-text-analysis/.venv/lib/python3.12/site-packages (from requests<3.0.0,>=2.13.0->spacy<3.8.0,>=3.7.2->en-core-web-sm==3.7.1) (2024.8.30)\n",
      "Requirement already satisfied: blis<0.8.0,>=0.7.8 in /workspaces/intro-text-analysis/.venv/lib/python3.12/site-packages (from thinc<8.3.0,>=8.2.2->spacy<3.8.0,>=3.7.2->en-core-web-sm==3.7.1) (0.7.11)\n",
      "Requirement already satisfied: confection<1.0.0,>=0.0.1 in /workspaces/intro-text-analysis/.venv/lib/python3.12/site-packages (from thinc<8.3.0,>=8.2.2->spacy<3.8.0,>=3.7.2->en-core-web-sm==3.7.1) (0.1.5)\n",
      "Requirement already satisfied: click>=8.0.0 in /workspaces/intro-text-analysis/.venv/lib/python3.12/site-packages (from typer<1.0.0,>=0.3.0->spacy<3.8.0,>=3.7.2->en-core-web-sm==3.7.1) (8.1.7)\n",
      "Requirement already satisfied: shellingham>=1.3.0 in /workspaces/intro-text-analysis/.venv/lib/python3.12/site-packages (from typer<1.0.0,>=0.3.0->spacy<3.8.0,>=3.7.2->en-core-web-sm==3.7.1) (1.5.4)\n",
      "Requirement already satisfied: rich>=10.11.0 in /workspaces/intro-text-analysis/.venv/lib/python3.12/site-packages (from typer<1.0.0,>=0.3.0->spacy<3.8.0,>=3.7.2->en-core-web-sm==3.7.1) (13.8.1)\n",
      "Requirement already satisfied: cloudpathlib<1.0.0,>=0.7.0 in /workspaces/intro-text-analysis/.venv/lib/python3.12/site-packages (from weasel<0.5.0,>=0.1.0->spacy<3.8.0,>=3.7.2->en-core-web-sm==3.7.1) (0.19.0)\n",
      "Requirement already satisfied: smart-open<8.0.0,>=5.2.1 in /workspaces/intro-text-analysis/.venv/lib/python3.12/site-packages (from weasel<0.5.0,>=0.1.0->spacy<3.8.0,>=3.7.2->en-core-web-sm==3.7.1) (7.0.4)\n",
      "Requirement already satisfied: MarkupSafe>=2.0 in /workspaces/intro-text-analysis/.venv/lib/python3.12/site-packages (from jinja2->spacy<3.8.0,>=3.7.2->en-core-web-sm==3.7.1) (2.1.5)\n",
      "Requirement already satisfied: marisa-trie>=0.7.7 in /workspaces/intro-text-analysis/.venv/lib/python3.12/site-packages (from language-data>=1.2->langcodes<4.0.0,>=3.2.0->spacy<3.8.0,>=3.7.2->en-core-web-sm==3.7.1) (1.2.0)\n",
      "Requirement already satisfied: markdown-it-py>=2.2.0 in /workspaces/intro-text-analysis/.venv/lib/python3.12/site-packages (from rich>=10.11.0->typer<1.0.0,>=0.3.0->spacy<3.8.0,>=3.7.2->en-core-web-sm==3.7.1) (3.0.0)\n",
      "Requirement already satisfied: pygments<3.0.0,>=2.13.0 in /workspaces/intro-text-analysis/.venv/lib/python3.12/site-packages (from rich>=10.11.0->typer<1.0.0,>=0.3.0->spacy<3.8.0,>=3.7.2->en-core-web-sm==3.7.1) (2.18.0)\n",
      "Requirement already satisfied: wrapt in /workspaces/intro-text-analysis/.venv/lib/python3.12/site-packages (from smart-open<8.0.0,>=5.2.1->weasel<0.5.0,>=0.1.0->spacy<3.8.0,>=3.7.2->en-core-web-sm==3.7.1) (1.16.0)\n",
      "Requirement already satisfied: mdurl~=0.1 in /workspaces/intro-text-analysis/.venv/lib/python3.12/site-packages (from markdown-it-py>=2.2.0->rich>=10.11.0->typer<1.0.0,>=0.3.0->spacy<3.8.0,>=3.7.2->en-core-web-sm==3.7.1) (0.1.2)\n",
      "\u001b[38;5;2m✔ Download and installation successful\u001b[0m\n",
      "You can now load the package via spacy.load('en_core_web_sm')\n",
      "\u001b[38;5;3m⚠ Restart to reload dependencies\u001b[0m\n",
      "If you are in a Jupyter or Colab notebook, you may need to restart Python in\n",
      "order to load all the package's dependencies. You can do this by selecting the\n",
      "'Restart kernel' or 'Restart runtime' option.\n"
     ]
    }
   ],
   "source": [
    "%run -m spacy download en\n",
    "%run -m spacy download en_core_web_sm"
   ]
  },
  {
   "cell_type": "markdown",
   "metadata": {},
   "source": [
    "TYPES WITH TOKEN COUNT"
   ]
  },
  {
   "cell_type": "code",
   "execution_count": 53,
   "metadata": {},
   "outputs": [],
   "source": [
    "import spacy\n",
    "\n",
    "nlp = spacy.load(\"en_core_web_sm\")"
   ]
  },
  {
   "cell_type": "code",
   "execution_count": 54,
   "metadata": {},
   "outputs": [],
   "source": [
    "tokenizer = nlp.tokenizer"
   ]
  },
  {
   "cell_type": "code",
   "execution_count": 55,
   "metadata": {},
   "outputs": [],
   "source": [
    "def commontypes(df: pd.DataFrame):\n",
    "    from collections import Counter\n",
    "    \n",
    "    df['tokens'] = df['unannotated_strings'].apply(tokenizer)\n",
    "\n",
    "    tokens_list = [t.text for t in df['tokens'].explode() if not t.is_stop and t.is_alpha]\n",
    "\n",
    "    type_counts = Counter(tokens_list)\n",
    "\n",
    "    print('Type count: ' + str(len(type_counts)))\n",
    "    print('Token count: ' + str(sum(type_counts.values())))\n",
    "    print (type_counts.most_common(100))\n",
    "    "
   ]
  },
  {
   "cell_type": "code",
   "execution_count": 56,
   "metadata": {},
   "outputs": [
    {
     "name": "stdout",
     "output_type": "stream",
     "text": [
      "Type count: 3335\n",
      "Token count: 9902\n",
      "[('Achaeans', 163), ('son', 85), ('city', 81), ('sanctuary', 71), ('time', 59), ('called', 58), ('Romans', 58), ('image', 57), ('people', 53), ('Lacedaemonians', 49), ('Ionians', 48), ('war', 43), ('Achaean', 42), ('land', 41), ('river', 41), ('Athenians', 40), ('came', 40), ('Philip', 37), ('Patrae', 36), ('sea', 35), ('men', 35), ('sent', 33), ('images', 32), ('Greece', 30), ('man', 29), ('Rome', 29), ('place', 28), ('cities', 28), ('Greeks', 27), ('said', 26), ('Roman', 26), ('took', 25), ('temple', 25), ('Athena', 24), ('senate', 24), ('king', 23), ('Helice', 23), ('ancient', 23), ('Sparta', 23), ('given', 23), ('Apollo', 23), ('god', 23), ('army', 22), ('Artemis', 22), ('water', 22), ('stades', 22), ('received', 21), ('set', 21), ('brought', 21), ('Poseidon', 21), ('love', 21), ('League', 21), ('sons', 20), ('Athens', 20), ('found', 20), ('women', 20), ('Pellene', 20), ('right', 20), ('Metellus', 20), ('Diaeus', 20), ('oracle', 19), ('Heracles', 19), ('goddess', 19), ('come', 19), ('Greek', 19), ('Aegium', 19), ('death', 18), ('Dionysus', 18), ('way', 18), ('sacrifice', 18), ('fled', 17), ('Lacedaemon', 17), ('occasion', 17), ('account', 17), ('road', 17), ('Aegeira', 17), ('Menalcidas', 17), ('Zeus', 17), ('Argos', 16), ('left', 16), ('great', 16), ('general', 16), ('inhabitants', 15), ('old', 15), ('reason', 15), ('battle', 15), ('carried', 15), ('day', 15), ('far', 15), ('Macedonians', 15), ('later', 15), ('built', 15), ('grove', 15), ('honor', 15), ('festival', 15), ('maiden', 15), ('rest', 14), ('daughter', 14), ('killed', 14), ('island', 14)]\n"
     ]
    },
    {
     "name": "stderr",
     "output_type": "stream",
     "text": [
      "/tmp/ipykernel_2643/638693372.py:4: SettingWithCopyWarning: \n",
      "A value is trying to be set on a copy of a slice from a DataFrame.\n",
      "Try using .loc[row_indexer,col_indexer] = value instead\n",
      "\n",
      "See the caveats in the documentation: https://pandas.pydata.org/pandas-docs/stable/user_guide/indexing.html#returning-a-view-versus-a-copy\n",
      "  df['tokens'] = df['unannotated_strings'].apply(tokenizer)\n"
     ]
    }
   ],
   "source": [
    "commontypes(book7)"
   ]
  },
  {
   "cell_type": "code",
   "execution_count": 57,
   "metadata": {},
   "outputs": [
    {
     "name": "stdout",
     "output_type": "stream",
     "text": [
      "Type count: 6630\n",
      "Token count: 27048\n",
      "[('son', 288), ('called', 204), ('Athenians', 182), ('city', 154), ('Apollo', 135), ('said', 109), ('men', 108), ('temple', 106), ('came', 106), ('Greeks', 105), ('sanctuary', 104), ('time', 100), ('war', 93), ('daughter', 92), ('Delphi', 86), ('Theseus', 82), ('bronze', 80), ('man', 80), ('dedicated', 79), ('Athena', 78), ('image', 76), ('killed', 76), ('god', 75), ('place', 74), ('Athens', 74), ('king', 73), ('Zeus', 71), ('Phocians', 70), ('army', 69), ('sea', 68), ('death', 67), ('statue', 67), ('day', 66), ('battle', 66), ('land', 64), ('says', 61), ('story', 61), ('water', 61), ('near', 59), ('people', 59), ('took', 58), ('sent', 57), ('account', 57), ('river', 54), ('Pyrrhus', 54), ('Ptolemy', 53), ('Artemis', 53), ('statues', 53), ('built', 52), ('Heracles', 52), ('road', 52), ('Athenian', 51), ('women', 48), ('gave', 48), ('old', 48), ('island', 47), ('children', 46), ('away', 46), ('Homer', 46), ('given', 46), ('having', 45), ('far', 45), ('Gauls', 45), ('like', 45), ('brought', 44), ('father', 44), ('tomb', 44), ('named', 43), ('altar', 43), ('Poseidon', 43), ('oracle', 43), ('Alexander', 43), ('way', 42), ('Dionysus', 42), ('left', 42), ('Greek', 41), ('images', 41), ('territory', 41), ('Macedonians', 40), ('reason', 40), ('cities', 40), ('number', 40), ('Antigonus', 39), ('know', 39), ('stades', 39), ('come', 39), ('set', 38), ('grave', 38), ('ancient', 38), ('taken', 38), ('great', 37), ('Lysimachus', 37), ('Megarians', 37), ('won', 36), ('stone', 36), ('died', 35), ('barbarians', 35), ('legend', 35), ('woman', 35), ('gods', 34)]\n"
     ]
    },
    {
     "name": "stderr",
     "output_type": "stream",
     "text": [
      "/tmp/ipykernel_2643/638693372.py:4: SettingWithCopyWarning: \n",
      "A value is trying to be set on a copy of a slice from a DataFrame.\n",
      "Try using .loc[row_indexer,col_indexer] = value instead\n",
      "\n",
      "See the caveats in the documentation: https://pandas.pydata.org/pandas-docs/stable/user_guide/indexing.html#returning-a-view-versus-a-copy\n",
      "  df['tokens'] = df['unannotated_strings'].apply(tokenizer)\n"
     ]
    }
   ],
   "source": [
    "commontypes(book1)"
   ]
  },
  {
   "cell_type": "code",
   "execution_count": 58,
   "metadata": {},
   "outputs": [
    {
     "name": "stdout",
     "output_type": "stream",
     "text": [
      "Type count: 3285\n",
      "Token count: 9601\n",
      "[('son', 155), ('Lacedaemonians', 108), ('sanctuary', 94), ('called', 91), ('image', 71), ('place', 56), ('city', 46), ('temple', 46), ('king', 45), ('Heracles', 45), ('time', 45), ('Sparta', 44), ('stades', 42), ('Apollo', 37), ('said', 37), ('sea', 35), ('came', 35), ('Athena', 35), ('war', 34), ('sons', 33), ('Artemis', 33), ('throne', 32), ('Athenians', 29), ('Agesilaus', 28), ('land', 27), ('left', 27), ('people', 27), ('road', 27), ('Zeus', 26), ('took', 25), ('man', 25), ('Asclepius', 25), ('Cleomenes', 25), ('set', 24), ('daughter', 24), ('brought', 24), ('far', 24), ('Pausanias', 24), ('Agis', 23), ('statue', 23), ('hero', 22), ('Tyndareus', 21), ('oracle', 21), ('army', 21), ('old', 21), ('away', 20), ('tomb', 20), ('house', 20), ('battle', 20), ('Achilles', 20), ('Dionysus', 20), ('named', 19), ('death', 19), ('water', 19), ('Lacedaemon', 19), ('account', 19), ('Argives', 19), ('won', 19), ('god', 19), ('bronze', 19), ('Leonidas', 19), ('town', 18), ('died', 18), ('Archidamus', 18), ('Helen', 18), ('reason', 17), ('men', 17), ('come', 17), ('altar', 17), ('wooden', 17), ('built', 16), ('Hippocoon', 16), ('story', 16), ('Athens', 16), ('Leotychides', 16), ('way', 16), ('sacrifice', 16), ('surnamed', 16), ('race', 16), ('Aphrodite', 16), ('Dorians', 15), ('given', 15), ('sent', 15), ('know', 15), ('Lysander', 15), ('fight', 15), ('goddess', 15), ('images', 15), ('found', 14), ('island', 14), ('expedition', 14), ('think', 14), ('Messenians', 14), ('Lacedaemonian', 14), ('sacred', 14), ('gods', 14), ('seeing', 14), ('home', 14), ('right', 14), ('market', 14)]\n"
     ]
    },
    {
     "name": "stderr",
     "output_type": "stream",
     "text": [
      "/tmp/ipykernel_2643/638693372.py:4: SettingWithCopyWarning: \n",
      "A value is trying to be set on a copy of a slice from a DataFrame.\n",
      "Try using .loc[row_indexer,col_indexer] = value instead\n",
      "\n",
      "See the caveats in the documentation: https://pandas.pydata.org/pandas-docs/stable/user_guide/indexing.html#returning-a-view-versus-a-copy\n",
      "  df['tokens'] = df['unannotated_strings'].apply(tokenizer)\n"
     ]
    }
   ],
   "source": [
    "commontypes(book3)"
   ]
  },
  {
   "cell_type": "markdown",
   "metadata": {},
   "source": [
    "LEMMATA"
   ]
  },
  {
   "cell_type": "code",
   "execution_count": 59,
   "metadata": {},
   "outputs": [],
   "source": [
    "def commonlemmata(df: pd.DataFrame):\n",
    "    from collections import Counter\n",
    "    raw_texts = [t for t in df['unannotated_strings']]\n",
    "    annotated_texts = nlp.pipe(raw_texts, batch_size=100)\n",
    "    df['nlp_docs'] = list(annotated_texts)\n",
    "    lemmata = [t.lemma_ for t in df['nlp_docs'].explode() if not t.is_stop and t.is_alpha]\n",
    "\n",
    "    lemmata_counts = Counter(lemmata)\n",
    "\n",
    "    return lemmata_counts.most_common(100)"
   ]
  },
  {
   "cell_type": "code",
   "execution_count": 60,
   "metadata": {},
   "outputs": [
    {
     "name": "stderr",
     "output_type": "stream",
     "text": [
      "/tmp/ipykernel_2643/1939521716.py:5: SettingWithCopyWarning: \n",
      "A value is trying to be set on a copy of a slice from a DataFrame.\n",
      "Try using .loc[row_indexer,col_indexer] = value instead\n",
      "\n",
      "See the caveats in the documentation: https://pandas.pydata.org/pandas-docs/stable/user_guide/indexing.html#returning-a-view-versus-a-copy\n",
      "  df['nlp_docs'] = list(annotated_texts)\n"
     ]
    },
    {
     "data": {
      "text/plain": [
       "[('Achaeans', 163),\n",
       " ('city', 109),\n",
       " ('son', 105),\n",
       " ('image', 89),\n",
       " ('sanctuary', 81),\n",
       " ('come', 65),\n",
       " ('man', 64),\n",
       " ('call', 61),\n",
       " ('time', 60),\n",
       " ('Romans', 58),\n",
       " ('people', 54),\n",
       " ('Ionians', 48),\n",
       " ('Lacedaemonians', 47),\n",
       " ('war', 46),\n",
       " ('send', 44),\n",
       " ('land', 43),\n",
       " ('take', 43),\n",
       " ('river', 43),\n",
       " ('say', 41),\n",
       " ('Athenians', 40),\n",
       " ('give', 38),\n",
       " ('bring', 38),\n",
       " ('Philip', 37),\n",
       " ('Patrae', 36),\n",
       " ('sea', 35),\n",
       " ('place', 34),\n",
       " ('great', 33),\n",
       " ('god', 32),\n",
       " ('Greece', 30),\n",
       " ('Rome', 29),\n",
       " ('king', 28),\n",
       " ('Greeks', 27),\n",
       " ('woman', 27),\n",
       " ('hold', 27),\n",
       " ('temple', 27),\n",
       " ('find', 26),\n",
       " ('sacrifice', 26),\n",
       " ('stand', 25),\n",
       " ('Athena', 24),\n",
       " ('senate', 24),\n",
       " ('roman', 24),\n",
       " ('Helice', 23),\n",
       " ('ancient', 23),\n",
       " ('Sparta', 23),\n",
       " ('Apollo', 23),\n",
       " ('army', 22),\n",
       " ('receive', 22),\n",
       " ('set', 22),\n",
       " ('Artemis', 22),\n",
       " ('water', 22),\n",
       " ('love', 22),\n",
       " ('Achaean', 22),\n",
       " ('stade', 22),\n",
       " ('name', 21),\n",
       " ('oracle', 21),\n",
       " ('hand', 21),\n",
       " ('Poseidon', 21),\n",
       " ('spring', 21),\n",
       " ('League', 21),\n",
       " ('right', 21),\n",
       " ('Athens', 20),\n",
       " ('carry', 20),\n",
       " ('day', 20),\n",
       " ('goddess', 20),\n",
       " ('leave', 20),\n",
       " ('achaean', 20),\n",
       " ('Metellus', 20),\n",
       " ('Diaeus', 20),\n",
       " ('flee', 19),\n",
       " ('occasion', 19),\n",
       " ('account', 19),\n",
       " ('Heracles', 19),\n",
       " ('way', 19),\n",
       " ('Pellene', 19),\n",
       " ('death', 18),\n",
       " ('daughter', 18),\n",
       " ('go', 18),\n",
       " ('Dionysus', 18),\n",
       " ('wall', 18),\n",
       " ('see', 18),\n",
       " ('honor', 18),\n",
       " ('old', 17),\n",
       " ('later', 17),\n",
       " ('Lacedaemon', 17),\n",
       " ('kill', 17),\n",
       " ('lead', 17),\n",
       " ('road', 17),\n",
       " ('fall', 17),\n",
       " ('general', 17),\n",
       " ('Aegeira', 17),\n",
       " ('Zeus', 17),\n",
       " ('Argos', 16),\n",
       " ('reason', 16),\n",
       " ('year', 16),\n",
       " ('island', 16),\n",
       " ('far', 16),\n",
       " ('greek', 16),\n",
       " ('force', 16),\n",
       " ('order', 16),\n",
       " ('Menalcidas', 16)]"
      ]
     },
     "execution_count": 60,
     "metadata": {},
     "output_type": "execute_result"
    }
   ],
   "source": [
    "commonlemmata(book7)"
   ]
  },
  {
   "cell_type": "code",
   "execution_count": 61,
   "metadata": {},
   "outputs": [
    {
     "name": "stderr",
     "output_type": "stream",
     "text": [
      "/tmp/ipykernel_2643/1939521716.py:5: SettingWithCopyWarning: \n",
      "A value is trying to be set on a copy of a slice from a DataFrame.\n",
      "Try using .loc[row_indexer,col_indexer] = value instead\n",
      "\n",
      "See the caveats in the documentation: https://pandas.pydata.org/pandas-docs/stable/user_guide/indexing.html#returning-a-view-versus-a-copy\n",
      "  df['nlp_docs'] = list(annotated_texts)\n"
     ]
    },
    {
     "data": {
      "text/plain": [
       "[('son', 316),\n",
       " ('call', 214),\n",
       " ('city', 194),\n",
       " ('man', 191),\n",
       " ('say', 184),\n",
       " ('Athenians', 182),\n",
       " ('come', 169),\n",
       " ('Apollo', 135),\n",
       " ('statue', 121),\n",
       " ('take', 120),\n",
       " ('image', 117),\n",
       " ('sanctuary', 115),\n",
       " ('time', 112),\n",
       " ('temple', 111),\n",
       " ('give', 111),\n",
       " ('god', 110),\n",
       " ('daughter', 107),\n",
       " ('Greeks', 105),\n",
       " ('war', 96),\n",
       " ('place', 96),\n",
       " ('king', 96),\n",
       " ('kill', 91),\n",
       " ('day', 86),\n",
       " ('Delphi', 86),\n",
       " ('woman', 84),\n",
       " ('Theseus', 82),\n",
       " ('land', 80),\n",
       " ('bronze', 80),\n",
       " ('near', 79),\n",
       " ('dedicate', 79),\n",
       " ('Athena', 78),\n",
       " ('send', 78),\n",
       " ('army', 74),\n",
       " ('Athens', 74),\n",
       " ('great', 73),\n",
       " ('stand', 72),\n",
       " ('Zeus', 71),\n",
       " ('hold', 71),\n",
       " ('see', 71),\n",
       " ('sea', 70),\n",
       " ('battle', 70),\n",
       " ('Phocians', 70),\n",
       " ('know', 68),\n",
       " ('death', 67),\n",
       " ('name', 66),\n",
       " ('account', 65),\n",
       " ('bring', 64),\n",
       " ('story', 64),\n",
       " ('oracle', 64),\n",
       " ('people', 64),\n",
       " ('water', 62),\n",
       " ('child', 61),\n",
       " ('work', 61),\n",
       " ('old', 61),\n",
       " ('build', 60),\n",
       " ('river', 58),\n",
       " ('far', 57),\n",
       " ('fight', 57),\n",
       " ('carry', 56),\n",
       " ('island', 55),\n",
       " ('think', 55),\n",
       " ('road', 55),\n",
       " ('Artemis', 53),\n",
       " ('fall', 53),\n",
       " ('Pyrrhus', 53),\n",
       " ('Ptolemy', 52),\n",
       " ('find', 52),\n",
       " ('hand', 52),\n",
       " ('go', 51),\n",
       " ('altar', 51),\n",
       " ('tomb', 50),\n",
       " ('Heracles', 49),\n",
       " ('grave', 48),\n",
       " ('return', 48),\n",
       " ('hero', 48),\n",
       " ('horse', 48),\n",
       " ('father', 48),\n",
       " ('having', 47),\n",
       " ('leave', 47),\n",
       " ('offering', 47),\n",
       " ('die', 47),\n",
       " ('sacrifice', 47),\n",
       " ('attack', 47),\n",
       " ('like', 47),\n",
       " ('away', 46),\n",
       " ('Homer', 46),\n",
       " ('year', 46),\n",
       " ('number', 46),\n",
       " ('lie', 45),\n",
       " ('cross', 45),\n",
       " ('way', 44),\n",
       " ('reason', 44),\n",
       " ('stone', 44),\n",
       " ('Poseidon', 43),\n",
       " ('Alexander', 43),\n",
       " ('Gauls', 43),\n",
       " ('set', 42),\n",
       " ('Dionysus', 42),\n",
       " ('receive', 42),\n",
       " ('territory', 42)]"
      ]
     },
     "execution_count": 61,
     "metadata": {},
     "output_type": "execute_result"
    }
   ],
   "source": [
    "commonlemmata(book1)"
   ]
  },
  {
   "cell_type": "code",
   "execution_count": 62,
   "metadata": {},
   "outputs": [
    {
     "name": "stderr",
     "output_type": "stream",
     "text": [
      "/tmp/ipykernel_2643/1939521716.py:5: SettingWithCopyWarning: \n",
      "A value is trying to be set on a copy of a slice from a DataFrame.\n",
      "Try using .loc[row_indexer,col_indexer] = value instead\n",
      "\n",
      "See the caveats in the documentation: https://pandas.pydata.org/pandas-docs/stable/user_guide/indexing.html#returning-a-view-versus-a-copy\n",
      "  df['nlp_docs'] = list(annotated_texts)\n"
     ]
    },
    {
     "data": {
      "text/plain": [
       "[('son', 188),\n",
       " ('Lacedaemonians', 108),\n",
       " ('sanctuary', 102),\n",
       " ('call', 97),\n",
       " ('image', 86),\n",
       " ('place', 58),\n",
       " ('city', 58),\n",
       " ('come', 57),\n",
       " ('say', 52),\n",
       " ('king', 51),\n",
       " ('temple', 50),\n",
       " ('time', 48),\n",
       " ('Sparta', 44),\n",
       " ('stade', 44),\n",
       " ('man', 43),\n",
       " ('Heracles', 41),\n",
       " ('daughter', 38),\n",
       " ('war', 38),\n",
       " ('Apollo', 37),\n",
       " ('take', 36),\n",
       " ('sea', 35),\n",
       " ('bring', 35),\n",
       " ('Athena', 35),\n",
       " ('Artemis', 33),\n",
       " ('god', 33),\n",
       " ('far', 33),\n",
       " ('throne', 32),\n",
       " ('Athenians', 29),\n",
       " ('give', 28),\n",
       " ('sacrifice', 28),\n",
       " ('Agesilaus', 28),\n",
       " ('statue', 28),\n",
       " ('land', 27),\n",
       " ('people', 27),\n",
       " ('road', 27),\n",
       " ('Zeus', 26),\n",
       " ('old', 26),\n",
       " ('name', 25),\n",
       " ('set', 25),\n",
       " ('lead', 25),\n",
       " ('win', 25),\n",
       " ('Asclepius', 25),\n",
       " ('stand', 25),\n",
       " ('surname', 25),\n",
       " ('hero', 24),\n",
       " ('hold', 24),\n",
       " ('water', 23),\n",
       " ('tomb', 23),\n",
       " ('Agis', 23),\n",
       " ('Pausanias', 23),\n",
       " ('victory', 23),\n",
       " ('town', 22),\n",
       " ('house', 22),\n",
       " ('oracle', 22),\n",
       " ('Cleomenes', 22),\n",
       " ('army', 22),\n",
       " ('leave', 21),\n",
       " ('die', 21),\n",
       " ('Tyndareus', 21),\n",
       " ('go', 21),\n",
       " ('account', 21),\n",
       " ('near', 21),\n",
       " ('carry', 21),\n",
       " ('death', 20),\n",
       " ('away', 20),\n",
       " ('battle', 20),\n",
       " ('fight', 20),\n",
       " ('see', 20),\n",
       " ('bronze', 20),\n",
       " ('Achilles', 20),\n",
       " ('Dionysus', 20),\n",
       " ('Lacedaemon', 19),\n",
       " ('think', 19),\n",
       " ('honor', 19),\n",
       " ('goddess', 19),\n",
       " ('shrine', 19),\n",
       " ('find', 18),\n",
       " ('Leonidas', 18),\n",
       " ('know', 18),\n",
       " ('Archidamus', 18),\n",
       " ('Helen', 18),\n",
       " ('altar', 18),\n",
       " ('tree', 18),\n",
       " ('reason', 17),\n",
       " ('story', 17),\n",
       " ('year', 17),\n",
       " ('state', 17),\n",
       " ('course', 17),\n",
       " ('market', 17),\n",
       " ('wooden', 17),\n",
       " ('spring', 17),\n",
       " ('build', 16),\n",
       " ('Hippocoon', 16),\n",
       " ('Argives', 16),\n",
       " ('Athens', 16),\n",
       " ('way', 16),\n",
       " ('woman', 16),\n",
       " ('race', 16),\n",
       " ('Aphrodite', 16),\n",
       " ('wife', 15)]"
      ]
     },
     "execution_count": 62,
     "metadata": {},
     "output_type": "execute_result"
    }
   ],
   "source": [
    "commonlemmata(book3)"
   ]
  },
  {
   "cell_type": "markdown",
   "metadata": {},
   "source": [
    "Findings in relation to work done in class:\n",
    "\n",
    "\n",
    "I believe the transition from tokens to types to lemmata is extremely critical for quantitative textual analysis to be meaningful. For example, the words 'men' and 'man' are very similar and pretty much represent the same thing/ have the same implications. Thus, by combining their counts through lemmatization, we are able to get a much more accurate and insightful idea of the text to be studied. Especially in the context of these books where proper nouns take different forms (Athens/ Athenians, Greece/ Greek), the aforementioned process is helpful to correlate closely resembled words."
   ]
  },
  {
   "cell_type": "markdown",
   "metadata": {},
   "source": [
    "Question 3. Summary of Book 1:\n",
    "\n",
    "\n",
    "In Book 1, Pausanias focuses on Attica, the region of Athens, one of the most famous and culturally significant parts of ancient Greece. Athenians (Athens), Greeks and Apollo are some of the most recurring lemmata in book 1, almost certainly iterating that the setting of the book is Athens, Greece. This is easily discernible given the frequency of appearances of these words in our quantitative analysis.\n",
    "\n",
    "Pausanias provides an extensive description of the Acropolis, the citadel of Athens, and its significant temples and monuments. Pausanias details the art and sculptures housed in these temples, which we can clearly link to our quantitative analysis- given that temples, statues and sanctuaries were in the top 20 most common words used in the book. Pausanias describes the Athenian Agora, the social and political heart of the city, pointing out the various temples, statues, and stoas. Throughout Athens, Pausanias records numerous statues of gods, heroes, and important figures. \n",
    "\n",
    "Pausanias is particularly interested in the temples of Athens and surrounding Attica. The temple of Athena on the Acropolis, the temple of Olympian Zeus, and the sanctuary at Eleusis are key highlights of his description. Gods like Athena, Zeus, and Apollo are central to the religious life of the Athenians, as Pausanias illustrates by detailing the architecture and religious ceremonies.\n",
    "\n",
    "Pausanias frequently refers to historical events such as the wars that shaped the history of Athens, including the Battle of Marathon. He also mentions various kings, both mythical and historical, like Theseus, who is closely tied to the legends of Athens. His discussions of war and leadership reflect the Athenians' military prowess and the legacy of their past victories. This is evident from our quantitative analysis where the words 'war', 'king', 'kill' appeared frequently- all together indicative of conquest. Thus, I can reiterate that my quantitative analysis matches the qualitative observation through reading about historical events.\n",
    "\n",
    "The frequent references to family relationships, particularly sons and daughters, echo Pausanias' recounting of Greek myths and genealogies. For example, Athena (who is symbolically considered the daughter of Zeus) is revered in Athens, and mythological stories often emphasize the familial connections between gods and heroes. The sons and daughters of kings and gods feature prominently in the stories of the city. That is why our quantitative analysis of the most common lemmata featured sons and daughters- simply because of the way Greek mythological gods are referred to in society. \n",
    "\n",
    "Overall, Pausanias intersperses his description with historical accounts of wars, political events, and important figures that shaped Athens. He often contrasts Athens' present with its glorious past, lamenting how many of the city's wonders were destroyed or decayed over time. I believe the quantitative analysis conducted does give reasonable insight into the contents of book 1 without reading- as by grouping themed words together- we can assert the setting, history and other important events and landmarks."
   ]
  }
 ],
 "metadata": {
  "kernelspec": {
   "display_name": ".venv",
   "language": "python",
   "name": "python3"
  },
  "language_info": {
   "codemirror_mode": {
    "name": "ipython",
    "version": 3
   },
   "file_extension": ".py",
   "mimetype": "text/x-python",
   "name": "python",
   "nbconvert_exporter": "python",
   "pygments_lexer": "ipython3",
   "version": "3.12.1"
  }
 },
 "nbformat": 4,
 "nbformat_minor": 2
}
