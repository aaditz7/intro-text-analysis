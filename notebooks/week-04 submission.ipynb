{
 "cells": [
  {
   "cell_type": "markdown",
   "metadata": {},
   "source": [
    "## Lab 4 Submission\n",
    "### Rohan and Aadit"
   ]
  },
  {
   "cell_type": "code",
   "execution_count": 3,
   "metadata": {},
   "outputs": [],
   "source": [
    "# I've created a utils.py file for frequently reused functionality -- you can import from it like so\n",
    "from utils import load_pausanias\n",
    "\n",
    "pausanias_df = load_pausanias('grc') # you can use `load_pausanias('eng')` to load the English version"
   ]
  },
  {
   "cell_type": "markdown",
   "metadata": {},
   "source": [
    "When calculating co-occurrences in Greek, it is generally insufficient to use the L and R windows that Brezina uses for English (@Brezina2018 67–70). Instead, we'll look for a dependency relationship between the **node** and its **collocates**. Below, you can see that we can access the dependencies of a token through its `children` property."
   ]
  },
  {
   "cell_type": "code",
   "execution_count": null,
   "metadata": {},
   "outputs": [
    {
     "data": {
      "text/plain": [
       "\"token: 'ἠπείρου, ἤπειρος', dependencies: [(τῆς, 'ὁ'), (Ἑλληνικῆς, 'Ἑλληνικός')]\""
      ]
     },
     "execution_count": 16,
     "metadata": {},
     "output_type": "execute_result"
    }
   ],
   "source": [
    "test_token = pausanias_df['nlp_docs'][0][1]\n",
    "\n",
    "# we use a list comprehension to evaluate the generator at `test_token.children`\n",
    "f\"token: '{test_token}, {test_token.lemma_}', dependencies: {[(c, c.lemma_) for c in test_token.children]}\""
   ]
  },
  {
   "cell_type": "code",
   "execution_count": null,
   "metadata": {},
   "outputs": [],
   "source": [
    "# Mu function\n",
    "\n",
    "from collections import Counter\n",
    "import pandas as pd\n",
    "\n",
    "def expected_frequency_of_collocation(df: pd.DataFrame, node: str, collocate: str, window_size: int = 1):\n",
    "    \"\"\"\n",
    "    `node` and `collocate` should be the string representations\n",
    "    of the associated lemmata\n",
    "    \"\"\"\n",
    "\n",
    "    lemmata = [t.lemma_ for t in df['nlp_docs'].explode()]\n",
    "    counter = Counter(lemmata)\n",
    "    node_count = counter[node]\n",
    "    collocate_count = counter[collocate]\n",
    "\n",
    "    return (node_count * collocate_count * window_size) / len(lemmata)\n",
    "\n"
   ]
  },
  {
   "cell_type": "markdown",
   "metadata": {},
   "source": [
    "Notice that we're also accessing the `lemma_` property here. Because Greek is heavily inflected, we'll tend to focus on collocations of lemmata, rather than types -- but you might find in your own work that it is interesting to look at type collocations instead. Just be sure to note which kind of \"word\" you're examining."
   ]
  },
  {
   "cell_type": "markdown",
   "metadata": {},
   "source": [
    "### Frequency of co-occurrence\n",
    "\n",
    "The frequency of co-occurrence reports the presence of both a **node** (`w1`) and a **collocate** (`w2`). Given a DataFrame like `pausanias_df`, we can calculate the frequency of co-occurrence in two different ways. \n",
    "\n",
    "We can either count when the collocate is a dependency of the node, like so:"
   ]
  },
  {
   "cell_type": "code",
   "execution_count": null,
   "metadata": {},
   "outputs": [
    {
     "name": "stdout",
     "output_type": "stream",
     "text": [
      "Observed Freq:  9\n",
      "Mu:  4.920898794300329\n",
      "Mutual Information:  2.298921845575457\n"
     ]
    }
   ],
   "source": [
    "node = 'ἄγαλμα' # statue\n",
    "collocate = 'θεός' # god\n",
    "\n",
    "def count_dependency_collocations(x, w1, w2):\n",
    "    w2_is_child_of_w1 = len([t for t in x if t.lemma_ == w1 and w2 in [tt.lemma_ for tt in t.children]])\n",
    "\n",
    "    return w2_is_child_of_w1\n",
    "\n",
    "pausanias_df['agalma_megas_dependencies'] = pausanias_df['nlp_docs'].apply(count_dependency_collocations, args=(node, collocate))\n",
    "\n",
    "observed_dep_freq_agalma_megas = pausanias_df[pausanias_df['agalma_megas_dependencies'] > 0].shape[0]\n",
    "\n",
    "print('Observed Freq: ', observed_dep_freq_agalma_megas)\n",
    "\n",
    "expected_freq_agalma_megas = expected_frequency_of_collocation(pausanias_df, node, collocate)\n",
    "\n",
    "mu_deps = observed_dep_freq_agalma_megas / expected_freq_agalma_megas\n",
    "\n",
    "print('Mu: ', mu_deps)\n",
    "\n",
    "import math\n",
    "\n",
    "mutual_information_agalma_megas_deps = math.log(mu_deps, 2)\n",
    "\n",
    "print('Mutual Information: ', mutual_information_agalma_megas_deps)\n",
    "\n"
   ]
  },
  {
   "cell_type": "code",
   "execution_count": null,
   "metadata": {},
   "outputs": [
    {
     "name": "stdout",
     "output_type": "stream",
     "text": [
      "Observed Freq:  4\n",
      "Mu:  4.1311249137336095\n",
      "Mutual Information:  2.0465346839411716\n"
     ]
    }
   ],
   "source": [
    "node = 'μέγας' # great\n",
    "collocate = 'θεός' # god\n",
    "\n",
    "def count_dependency_collocations(x, w1, w2):\n",
    "    w2_is_child_of_w1 = len([t for t in x if t.lemma_ == w1 and w2 in [tt.lemma_ for tt in t.children]])\n",
    "\n",
    "    return w2_is_child_of_w1\n",
    "\n",
    "pausanias_df['agalma_megas_dependencies'] = pausanias_df['nlp_docs'].apply(count_dependency_collocations, args=(node, collocate))\n",
    "\n",
    "observed_dep_freq_agalma_megas = pausanias_df[pausanias_df['agalma_megas_dependencies'] > 0].shape[0]\n",
    "\n",
    "observed_dep_freq_agalma_megas\n",
    "\n",
    "print('Observed Freq: ', observed_dep_freq_agalma_megas)\n",
    "\n",
    "expected_freq_agalma_megas = expected_frequency_of_collocation(pausanias_df, node, collocate)\n",
    "\n",
    "mu_deps = observed_dep_freq_agalma_megas / expected_freq_agalma_megas\n",
    "\n",
    "print('Mu: ', mu_deps)\n",
    "\n",
    "mutual_information_agalma_megas_deps = math.log(mu_deps, 2)\n",
    "\n",
    "print('Mutual Information: ', mutual_information_agalma_megas_deps)"
   ]
  },
  {
   "cell_type": "code",
   "execution_count": null,
   "metadata": {},
   "outputs": [
    {
     "name": "stdout",
     "output_type": "stream",
     "text": [
      "Observed Freq:  10\n",
      "Mu:  32.024896915287854\n",
      "Mutual Information:  5.001122021580986\n"
     ]
    }
   ],
   "source": [
    "node = 'μήτηρ' # mother\n",
    "collocate = 'θεός' # god\n",
    "\n",
    "def count_dependency_collocations(x, w1, w2):\n",
    "    w2_is_child_of_w1 = len([t for t in x if t.lemma_ == w1 and w2 in [tt.lemma_ for tt in t.children]])\n",
    "\n",
    "    return w2_is_child_of_w1\n",
    "\n",
    "pausanias_df['agalma_megas_dependencies'] = pausanias_df['nlp_docs'].apply(count_dependency_collocations, args=(node, collocate))\n",
    "\n",
    "observed_dep_freq_agalma_megas = pausanias_df[pausanias_df['agalma_megas_dependencies'] > 0].shape[0]\n",
    "\n",
    "observed_dep_freq_agalma_megas\n",
    "\n",
    "print('Observed Freq: ', observed_dep_freq_agalma_megas)\n",
    "\n",
    "expected_freq_agalma_megas = expected_frequency_of_collocation(pausanias_df, node, collocate)\n",
    "\n",
    "mu_deps = observed_dep_freq_agalma_megas / expected_freq_agalma_megas\n",
    "\n",
    "print('Mu: ', mu_deps)\n",
    "\n",
    "mutual_information_agalma_megas_deps = math.log(mu_deps, 2)\n",
    "\n",
    "print('Mutual Information: ', mutual_information_agalma_megas_deps)"
   ]
  },
  {
   "cell_type": "code",
   "execution_count": null,
   "metadata": {},
   "outputs": [
    {
     "name": "stdout",
     "output_type": "stream",
     "text": [
      "Observed Freq:  6\n",
      "Mu:  5.1383767185428155\n",
      "Mutual Information:  2.361312664868964\n"
     ]
    }
   ],
   "source": [
    "node = 'ναός' # temple\n",
    "collocate = 'θεός' # god\n",
    "\n",
    "def count_dependency_collocations(x, w1, w2):\n",
    "    w2_is_child_of_w1 = len([t for t in x if t.lemma_ == w1 and w2 in [tt.lemma_ for tt in t.children]])\n",
    "\n",
    "    return w2_is_child_of_w1\n",
    "\n",
    "pausanias_df['agalma_megas_dependencies'] = pausanias_df['nlp_docs'].apply(count_dependency_collocations, args=(node, collocate))\n",
    "\n",
    "observed_dep_freq_agalma_megas = pausanias_df[pausanias_df['agalma_megas_dependencies'] > 0].shape[0]\n",
    "\n",
    "observed_dep_freq_agalma_megas\n",
    "\n",
    "print('Observed Freq: ', observed_dep_freq_agalma_megas)\n",
    "\n",
    "expected_freq_agalma_megas = expected_frequency_of_collocation(pausanias_df, node, collocate)\n",
    "\n",
    "mu_deps = observed_dep_freq_agalma_megas / expected_freq_agalma_megas\n",
    "\n",
    "print('Mu: ', mu_deps)\n",
    "\n",
    "mutual_information_agalma_megas_deps = math.log(mu_deps, 2)\n",
    "\n",
    "print('Mutual Information: ', mutual_information_agalma_megas_deps)"
   ]
  },
  {
   "cell_type": "code",
   "execution_count": null,
   "metadata": {},
   "outputs": [
    {
     "ename": "NameError",
     "evalue": "name 'pausanias_df' is not defined",
     "output_type": "error",
     "traceback": [
      "\u001b[0;31m---------------------------------------------------------------------------\u001b[0m",
      "\u001b[0;31mNameError\u001b[0m                                 Traceback (most recent call last)",
      "Cell \u001b[0;32mIn[1], line 9\u001b[0m\n\u001b[1;32m      5\u001b[0m     w2_is_child_of_w1 \u001b[38;5;241m=\u001b[39m \u001b[38;5;28mlen\u001b[39m([t \u001b[38;5;28;01mfor\u001b[39;00m t \u001b[38;5;129;01min\u001b[39;00m x \u001b[38;5;28;01mif\u001b[39;00m t\u001b[38;5;241m.\u001b[39mlemma_ \u001b[38;5;241m==\u001b[39m w1 \u001b[38;5;129;01mand\u001b[39;00m w2 \u001b[38;5;129;01min\u001b[39;00m [tt\u001b[38;5;241m.\u001b[39mlemma_ \u001b[38;5;28;01mfor\u001b[39;00m tt \u001b[38;5;129;01min\u001b[39;00m t\u001b[38;5;241m.\u001b[39mchildren]])\n\u001b[1;32m      7\u001b[0m     \u001b[38;5;28;01mreturn\u001b[39;00m w2_is_child_of_w1\n\u001b[0;32m----> 9\u001b[0m pausanias_df[\u001b[38;5;124m'\u001b[39m\u001b[38;5;124magalma_megas_dependencies\u001b[39m\u001b[38;5;124m'\u001b[39m] \u001b[38;5;241m=\u001b[39m \u001b[43mpausanias_df\u001b[49m[\u001b[38;5;124m'\u001b[39m\u001b[38;5;124mnlp_docs\u001b[39m\u001b[38;5;124m'\u001b[39m]\u001b[38;5;241m.\u001b[39mapply(count_dependency_collocations, args\u001b[38;5;241m=\u001b[39m(node, collocate))\n\u001b[1;32m     11\u001b[0m observed_dep_freq_agalma_megas \u001b[38;5;241m=\u001b[39m pausanias_df[pausanias_df[\u001b[38;5;124m'\u001b[39m\u001b[38;5;124magalma_megas_dependencies\u001b[39m\u001b[38;5;124m'\u001b[39m] \u001b[38;5;241m>\u001b[39m \u001b[38;5;241m0\u001b[39m]\u001b[38;5;241m.\u001b[39mshape[\u001b[38;5;241m0\u001b[39m]\n\u001b[1;32m     13\u001b[0m observed_dep_freq_agalma_megas\n",
      "\u001b[0;31mNameError\u001b[0m: name 'pausanias_df' is not defined"
     ]
    }
   ],
   "source": [
    "node = 'ἱερόν' # priest\n",
    "collocate = 'θεός' # god\n",
    "\n",
    "def count_dependency_collocations(x, w1, w2):\n",
    "    w2_is_child_of_w1 = len([t for t in x if t.lemma_ == w1 and w2 in [tt.lemma_ for tt in t.children]])\n",
    "\n",
    "    return w2_is_child_of_w1\n",
    "\n",
    "pausanias_df['agalma_megas_dependencies'] = pausanias_df['nlp_docs'].apply(count_dependency_collocations, args=(node, collocate))\n",
    "\n",
    "observed_dep_freq_agalma_megas = pausanias_df[pausanias_df['agalma_megas_dependencies'] > 0].shape[0]\n",
    "\n",
    "observed_dep_freq_agalma_megas\n",
    "\n",
    "print('Observed Freq: ', observed_dep_freq_agalma_megas)\n",
    "\n",
    "expected_freq_agalma_megas = expected_frequency_of_collocation(pausanias_df, node, collocate)\n",
    "\n",
    "mu_deps = observed_dep_freq_agalma_megas / expected_freq_agalma_megas\n",
    "\n",
    "print('Mu: ', mu_deps)\n",
    "\n",
    "mutual_information_agalma_megas_deps = math.log(mu_deps, 2)\n",
    "\n",
    "print('Mutual Information: ', mutual_information_agalma_megas_deps)"
   ]
  },
  {
   "cell_type": "markdown",
   "metadata": {},
   "source": [
    "Or we can count when the collocate and node co-occur within a given window, as follows:"
   ]
  },
  {
   "cell_type": "markdown",
   "metadata": {},
   "source": [
    "You can experiment in your own notebooks by adjusting the `l_size` and `r_size` args passed to the `count_ngram_collocations` function."
   ]
  },
  {
   "cell_type": "markdown",
   "metadata": {},
   "source": [
    "## Exercises\n",
    "\n",
    "You may work in groups for these exercises. They are due at the beginning of next class. You can submit them as a link to a Colab notebook or GitHub CodeSpace.\n",
    "\n",
    "0. Use the corpora that you assembled last week (Pausanias++):\n",
    "1. Using programming techniques from the course so far, find other potential collocates for a word of your choice (indicative verb)\n",
    "2. Calculate the μ and Mutual Information scores for at least 5 of these collocate pairs. How do your results change depending on your definition of a collocation? What might these changes mean? (Write your answers to these questions down.)\n",
    "3. Calculate the Delta P for these same five pairs. Do any results stand out? Why? What might they tell us about your corpus."
   ]
  }
 ],
 "metadata": {
  "kernelspec": {
   "display_name": "intro-qta",
   "language": "python",
   "name": "python3"
  },
  "language_info": {
   "codemirror_mode": {
    "name": "ipython",
    "version": 3
   },
   "file_extension": ".py",
   "mimetype": "text/x-python",
   "name": "python",
   "nbconvert_exporter": "python",
   "pygments_lexer": "ipython3",
   "version": "3.11.9"
  }
 },
 "nbformat": 4,
 "nbformat_minor": 2
}
